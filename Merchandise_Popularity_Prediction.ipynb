{
  "nbformat": 4,
  "nbformat_minor": 0,
  "metadata": {
    "colab": {
      "name": "Merchandise_Popularity_Prediction",
      "provenance": [],
      "collapsed_sections": []
    },
    "kernelspec": {
      "name": "python3",
      "display_name": "Python 3"
    }
  },
  "cells": [
    {
      "cell_type": "markdown",
      "metadata": {
        "id": "aiOHK2fYoLpN"
      },
      "source": [
        "# Merchandise Popularity Prediction Challenge\n",
        "\n",
        "Solution by: Pratik Nabriya | [LinkedIn ](https://www.linkedin.com/in/pratiknabriya)| [GitHub](https://www.github.com/pratiknabriya)"
      ]
    },
    {
      "cell_type": "markdown",
      "metadata": {
        "id": "_Dt4r4d0rM_L"
      },
      "source": [
        "### Importing Libraries and loading data"
      ]
    },
    {
      "cell_type": "code",
      "metadata": {
        "id": "nDuPTBf03fWF"
      },
      "source": [
        "# import libraries \n",
        "\n",
        "import warnings\n",
        "warnings.filterwarnings(\"ignore\")\n",
        "import numpy as np\n",
        "import pandas as pd\n",
        "import matplotlib.pyplot as plt\n",
        "import seaborn as sns"
      ],
      "execution_count": null,
      "outputs": []
    },
    {
      "cell_type": "code",
      "metadata": {
        "colab": {
          "base_uri": "https://localhost:8080/"
        },
        "id": "hLagb5G54z5P",
        "outputId": "c140a0bf-7637-4797-cac0-32add1d49140"
      },
      "source": [
        "# mount drive\n",
        "from google.colab import drive \n",
        "\n",
        "drive.mount(\"/content/gdrive\")"
      ],
      "execution_count": null,
      "outputs": [
        {
          "output_type": "stream",
          "text": [
            "Mounted at /content/gdrive\n"
          ],
          "name": "stdout"
        }
      ]
    },
    {
      "cell_type": "code",
      "metadata": {
        "id": "lSqqH0F67r1G"
      },
      "source": [
        "# loading data in Pandas dataframe from csv files\n",
        "\n",
        "my_path = '/content/gdrive/My Drive/MachineHack/Merchandise_popularity_prediction/'\n",
        "\n",
        "train_data = pd.read_csv(my_path + 'Train.csv')\n",
        "test_data = pd.read_csv(my_path + 'Test.csv')"
      ],
      "execution_count": null,
      "outputs": []
    },
    {
      "cell_type": "code",
      "metadata": {
        "colab": {
          "base_uri": "https://localhost:8080/",
          "height": 359
        },
        "id": "DpZivX3k8ffI",
        "outputId": "a4a9cbb7-b698-41a7-f69e-58023c56be55"
      },
      "source": [
        "train_data.head(10)"
      ],
      "execution_count": null,
      "outputs": [
        {
          "output_type": "execute_result",
          "data": {
            "text/html": [
              "<div>\n",
              "<style scoped>\n",
              "    .dataframe tbody tr th:only-of-type {\n",
              "        vertical-align: middle;\n",
              "    }\n",
              "\n",
              "    .dataframe tbody tr th {\n",
              "        vertical-align: top;\n",
              "    }\n",
              "\n",
              "    .dataframe thead th {\n",
              "        text-align: right;\n",
              "    }\n",
              "</style>\n",
              "<table border=\"1\" class=\"dataframe\">\n",
              "  <thead>\n",
              "    <tr style=\"text-align: right;\">\n",
              "      <th></th>\n",
              "      <th>Store_Ratio</th>\n",
              "      <th>Basket_Ratio</th>\n",
              "      <th>Category_1</th>\n",
              "      <th>Store_Score</th>\n",
              "      <th>Category_2</th>\n",
              "      <th>Store_Presence</th>\n",
              "      <th>Score_1</th>\n",
              "      <th>Score_2</th>\n",
              "      <th>Score_3</th>\n",
              "      <th>Score_4</th>\n",
              "      <th>time</th>\n",
              "      <th>popularity</th>\n",
              "    </tr>\n",
              "  </thead>\n",
              "  <tbody>\n",
              "    <tr>\n",
              "      <th>0</th>\n",
              "      <td>0.407</td>\n",
              "      <td>0.00380</td>\n",
              "      <td>2</td>\n",
              "      <td>-35.865</td>\n",
              "      <td>1</td>\n",
              "      <td>0.9920</td>\n",
              "      <td>0.94400</td>\n",
              "      <td>0.0988</td>\n",
              "      <td>0.1100</td>\n",
              "      <td>113.911</td>\n",
              "      <td>189125</td>\n",
              "      <td>4</td>\n",
              "    </tr>\n",
              "    <tr>\n",
              "      <th>1</th>\n",
              "      <td>0.234</td>\n",
              "      <td>0.10500</td>\n",
              "      <td>0</td>\n",
              "      <td>-19.884</td>\n",
              "      <td>1</td>\n",
              "      <td>0.9440</td>\n",
              "      <td>0.90000</td>\n",
              "      <td>0.1290</td>\n",
              "      <td>0.0382</td>\n",
              "      <td>76.332</td>\n",
              "      <td>186513</td>\n",
              "      <td>4</td>\n",
              "    </tr>\n",
              "    <tr>\n",
              "      <th>2</th>\n",
              "      <td>0.668</td>\n",
              "      <td>0.72600</td>\n",
              "      <td>9</td>\n",
              "      <td>-7.512</td>\n",
              "      <td>1</td>\n",
              "      <td>0.0387</td>\n",
              "      <td>0.00000</td>\n",
              "      <td>0.1340</td>\n",
              "      <td>0.4530</td>\n",
              "      <td>124.075</td>\n",
              "      <td>172143</td>\n",
              "      <td>4</td>\n",
              "    </tr>\n",
              "    <tr>\n",
              "      <th>3</th>\n",
              "      <td>0.184</td>\n",
              "      <td>0.00561</td>\n",
              "      <td>4</td>\n",
              "      <td>-34.357</td>\n",
              "      <td>1</td>\n",
              "      <td>0.8490</td>\n",
              "      <td>0.93100</td>\n",
              "      <td>0.1110</td>\n",
              "      <td>0.0641</td>\n",
              "      <td>79.037</td>\n",
              "      <td>184000</td>\n",
              "      <td>5</td>\n",
              "    </tr>\n",
              "    <tr>\n",
              "      <th>4</th>\n",
              "      <td>0.231</td>\n",
              "      <td>0.13100</td>\n",
              "      <td>6</td>\n",
              "      <td>-22.842</td>\n",
              "      <td>1</td>\n",
              "      <td>0.9370</td>\n",
              "      <td>0.00000</td>\n",
              "      <td>0.1090</td>\n",
              "      <td>0.0677</td>\n",
              "      <td>109.560</td>\n",
              "      <td>186507</td>\n",
              "      <td>3</td>\n",
              "    </tr>\n",
              "    <tr>\n",
              "      <th>5</th>\n",
              "      <td>0.756</td>\n",
              "      <td>0.60900</td>\n",
              "      <td>3</td>\n",
              "      <td>-7.927</td>\n",
              "      <td>1</td>\n",
              "      <td>0.2170</td>\n",
              "      <td>0.00474</td>\n",
              "      <td>0.0960</td>\n",
              "      <td>0.5370</td>\n",
              "      <td>117.023</td>\n",
              "      <td>155720</td>\n",
              "      <td>4</td>\n",
              "    </tr>\n",
              "    <tr>\n",
              "      <th>6</th>\n",
              "      <td>0.398</td>\n",
              "      <td>0.03360</td>\n",
              "      <td>10</td>\n",
              "      <td>-30.369</td>\n",
              "      <td>1</td>\n",
              "      <td>0.9960</td>\n",
              "      <td>0.96200</td>\n",
              "      <td>0.1300</td>\n",
              "      <td>0.6120</td>\n",
              "      <td>72.166</td>\n",
              "      <td>134500</td>\n",
              "      <td>4</td>\n",
              "    </tr>\n",
              "    <tr>\n",
              "      <th>7</th>\n",
              "      <td>0.717</td>\n",
              "      <td>0.69900</td>\n",
              "      <td>5</td>\n",
              "      <td>-5.665</td>\n",
              "      <td>0</td>\n",
              "      <td>0.2230</td>\n",
              "      <td>0.00000</td>\n",
              "      <td>0.1390</td>\n",
              "      <td>0.6890</td>\n",
              "      <td>100.147</td>\n",
              "      <td>186600</td>\n",
              "      <td>4</td>\n",
              "    </tr>\n",
              "    <tr>\n",
              "      <th>8</th>\n",
              "      <td>0.419</td>\n",
              "      <td>0.57400</td>\n",
              "      <td>4</td>\n",
              "      <td>-12.221</td>\n",
              "      <td>0</td>\n",
              "      <td>0.1020</td>\n",
              "      <td>0.46200</td>\n",
              "      <td>0.8950</td>\n",
              "      <td>0.3450</td>\n",
              "      <td>129.260</td>\n",
              "      <td>685880</td>\n",
              "      <td>4</td>\n",
              "    </tr>\n",
              "    <tr>\n",
              "      <th>9</th>\n",
              "      <td>0.705</td>\n",
              "      <td>0.22100</td>\n",
              "      <td>3</td>\n",
              "      <td>-11.474</td>\n",
              "      <td>0</td>\n",
              "      <td>0.9380</td>\n",
              "      <td>0.90600</td>\n",
              "      <td>0.1110</td>\n",
              "      <td>0.3840</td>\n",
              "      <td>84.962</td>\n",
              "      <td>143131</td>\n",
              "      <td>4</td>\n",
              "    </tr>\n",
              "  </tbody>\n",
              "</table>\n",
              "</div>"
            ],
            "text/plain": [
              "   Store_Ratio  Basket_Ratio  Category_1  ...  Score_4    time  popularity\n",
              "0        0.407       0.00380           2  ...  113.911  189125           4\n",
              "1        0.234       0.10500           0  ...   76.332  186513           4\n",
              "2        0.668       0.72600           9  ...  124.075  172143           4\n",
              "3        0.184       0.00561           4  ...   79.037  184000           5\n",
              "4        0.231       0.13100           6  ...  109.560  186507           3\n",
              "5        0.756       0.60900           3  ...  117.023  155720           4\n",
              "6        0.398       0.03360          10  ...   72.166  134500           4\n",
              "7        0.717       0.69900           5  ...  100.147  186600           4\n",
              "8        0.419       0.57400           4  ...  129.260  685880           4\n",
              "9        0.705       0.22100           3  ...   84.962  143131           4\n",
              "\n",
              "[10 rows x 12 columns]"
            ]
          },
          "metadata": {
            "tags": []
          },
          "execution_count": 6
        }
      ]
    },
    {
      "cell_type": "code",
      "metadata": {
        "colab": {
          "base_uri": "https://localhost:8080/"
        },
        "id": "gcV-Y0jk8vnn",
        "outputId": "cbb48411-a308-4a46-87e8-bf31f6d9021b"
      },
      "source": [
        "train_data.shape"
      ],
      "execution_count": null,
      "outputs": [
        {
          "output_type": "execute_result",
          "data": {
            "text/plain": [
              "(18208, 12)"
            ]
          },
          "metadata": {
            "tags": []
          },
          "execution_count": 7
        }
      ]
    },
    {
      "cell_type": "code",
      "metadata": {
        "colab": {
          "base_uri": "https://localhost:8080/",
          "height": 419
        },
        "id": "FVZt94UC8mVA",
        "outputId": "97616221-dfda-41c9-e70e-02d552e21adb"
      },
      "source": [
        "test_data"
      ],
      "execution_count": null,
      "outputs": [
        {
          "output_type": "execute_result",
          "data": {
            "text/html": [
              "<div>\n",
              "<style scoped>\n",
              "    .dataframe tbody tr th:only-of-type {\n",
              "        vertical-align: middle;\n",
              "    }\n",
              "\n",
              "    .dataframe tbody tr th {\n",
              "        vertical-align: top;\n",
              "    }\n",
              "\n",
              "    .dataframe thead th {\n",
              "        text-align: right;\n",
              "    }\n",
              "</style>\n",
              "<table border=\"1\" class=\"dataframe\">\n",
              "  <thead>\n",
              "    <tr style=\"text-align: right;\">\n",
              "      <th></th>\n",
              "      <th>Store_Ratio</th>\n",
              "      <th>Basket_Ratio</th>\n",
              "      <th>Category_1</th>\n",
              "      <th>Store_Score</th>\n",
              "      <th>Category_2</th>\n",
              "      <th>Store_Presence</th>\n",
              "      <th>Score_1</th>\n",
              "      <th>Score_2</th>\n",
              "      <th>Score_3</th>\n",
              "      <th>Score_4</th>\n",
              "      <th>time</th>\n",
              "    </tr>\n",
              "  </thead>\n",
              "  <tbody>\n",
              "    <tr>\n",
              "      <th>0</th>\n",
              "      <td>0.164</td>\n",
              "      <td>0.994</td>\n",
              "      <td>1</td>\n",
              "      <td>-23.718</td>\n",
              "      <td>0</td>\n",
              "      <td>0.12400</td>\n",
              "      <td>0.991000</td>\n",
              "      <td>0.7890</td>\n",
              "      <td>0.00001</td>\n",
              "      <td>127.602</td>\n",
              "      <td>236436</td>\n",
              "    </tr>\n",
              "    <tr>\n",
              "      <th>1</th>\n",
              "      <td>0.586</td>\n",
              "      <td>0.636</td>\n",
              "      <td>4</td>\n",
              "      <td>-7.710</td>\n",
              "      <td>1</td>\n",
              "      <td>0.00208</td>\n",
              "      <td>0.322000</td>\n",
              "      <td>0.1070</td>\n",
              "      <td>0.35500</td>\n",
              "      <td>136.337</td>\n",
              "      <td>253631</td>\n",
              "    </tr>\n",
              "    <tr>\n",
              "      <th>2</th>\n",
              "      <td>0.457</td>\n",
              "      <td>0.743</td>\n",
              "      <td>0</td>\n",
              "      <td>-7.591</td>\n",
              "      <td>1</td>\n",
              "      <td>0.40400</td>\n",
              "      <td>0.009310</td>\n",
              "      <td>0.2010</td>\n",
              "      <td>0.68800</td>\n",
              "      <td>154.902</td>\n",
              "      <td>215669</td>\n",
              "    </tr>\n",
              "    <tr>\n",
              "      <th>3</th>\n",
              "      <td>0.423</td>\n",
              "      <td>0.748</td>\n",
              "      <td>5</td>\n",
              "      <td>-9.832</td>\n",
              "      <td>1</td>\n",
              "      <td>0.03000</td>\n",
              "      <td>0.221000</td>\n",
              "      <td>0.1690</td>\n",
              "      <td>0.42800</td>\n",
              "      <td>93.977</td>\n",
              "      <td>325200</td>\n",
              "    </tr>\n",
              "    <tr>\n",
              "      <th>4</th>\n",
              "      <td>0.802</td>\n",
              "      <td>0.756</td>\n",
              "      <td>2</td>\n",
              "      <td>-10.791</td>\n",
              "      <td>0</td>\n",
              "      <td>0.08430</td>\n",
              "      <td>0.007650</td>\n",
              "      <td>0.0521</td>\n",
              "      <td>0.96300</td>\n",
              "      <td>131.715</td>\n",
              "      <td>288293</td>\n",
              "    </tr>\n",
              "    <tr>\n",
              "      <th>...</th>\n",
              "      <td>...</td>\n",
              "      <td>...</td>\n",
              "      <td>...</td>\n",
              "      <td>...</td>\n",
              "      <td>...</td>\n",
              "      <td>...</td>\n",
              "      <td>...</td>\n",
              "      <td>...</td>\n",
              "      <td>...</td>\n",
              "      <td>...</td>\n",
              "      <td>...</td>\n",
              "    </tr>\n",
              "    <tr>\n",
              "      <th>12135</th>\n",
              "      <td>0.171</td>\n",
              "      <td>0.118</td>\n",
              "      <td>2</td>\n",
              "      <td>-25.360</td>\n",
              "      <td>1</td>\n",
              "      <td>0.86100</td>\n",
              "      <td>0.871000</td>\n",
              "      <td>0.0932</td>\n",
              "      <td>0.05390</td>\n",
              "      <td>78.303</td>\n",
              "      <td>192039</td>\n",
              "    </tr>\n",
              "    <tr>\n",
              "      <th>12136</th>\n",
              "      <td>0.744</td>\n",
              "      <td>0.859</td>\n",
              "      <td>11</td>\n",
              "      <td>-3.166</td>\n",
              "      <td>1</td>\n",
              "      <td>0.02560</td>\n",
              "      <td>0.000063</td>\n",
              "      <td>0.0881</td>\n",
              "      <td>0.78700</td>\n",
              "      <td>91.977</td>\n",
              "      <td>232787</td>\n",
              "    </tr>\n",
              "    <tr>\n",
              "      <th>12137</th>\n",
              "      <td>0.572</td>\n",
              "      <td>0.852</td>\n",
              "      <td>6</td>\n",
              "      <td>-4.712</td>\n",
              "      <td>0</td>\n",
              "      <td>0.00105</td>\n",
              "      <td>0.000000</td>\n",
              "      <td>0.0844</td>\n",
              "      <td>0.37800</td>\n",
              "      <td>129.969</td>\n",
              "      <td>216411</td>\n",
              "    </tr>\n",
              "    <tr>\n",
              "      <th>12138</th>\n",
              "      <td>0.761</td>\n",
              "      <td>0.525</td>\n",
              "      <td>11</td>\n",
              "      <td>-6.900</td>\n",
              "      <td>1</td>\n",
              "      <td>0.44000</td>\n",
              "      <td>0.000007</td>\n",
              "      <td>0.0921</td>\n",
              "      <td>0.53100</td>\n",
              "      <td>80.870</td>\n",
              "      <td>238805</td>\n",
              "    </tr>\n",
              "    <tr>\n",
              "      <th>12139</th>\n",
              "      <td>0.341</td>\n",
              "      <td>0.197</td>\n",
              "      <td>9</td>\n",
              "      <td>-19.350</td>\n",
              "      <td>1</td>\n",
              "      <td>0.98600</td>\n",
              "      <td>0.963000</td>\n",
              "      <td>0.0800</td>\n",
              "      <td>0.96500</td>\n",
              "      <td>115.107</td>\n",
              "      <td>73000</td>\n",
              "    </tr>\n",
              "  </tbody>\n",
              "</table>\n",
              "<p>12140 rows × 11 columns</p>\n",
              "</div>"
            ],
            "text/plain": [
              "       Store_Ratio  Basket_Ratio  Category_1  ...  Score_3  Score_4    time\n",
              "0            0.164         0.994           1  ...  0.00001  127.602  236436\n",
              "1            0.586         0.636           4  ...  0.35500  136.337  253631\n",
              "2            0.457         0.743           0  ...  0.68800  154.902  215669\n",
              "3            0.423         0.748           5  ...  0.42800   93.977  325200\n",
              "4            0.802         0.756           2  ...  0.96300  131.715  288293\n",
              "...            ...           ...         ...  ...      ...      ...     ...\n",
              "12135        0.171         0.118           2  ...  0.05390   78.303  192039\n",
              "12136        0.744         0.859          11  ...  0.78700   91.977  232787\n",
              "12137        0.572         0.852           6  ...  0.37800  129.969  216411\n",
              "12138        0.761         0.525          11  ...  0.53100   80.870  238805\n",
              "12139        0.341         0.197           9  ...  0.96500  115.107   73000\n",
              "\n",
              "[12140 rows x 11 columns]"
            ]
          },
          "metadata": {
            "tags": []
          },
          "execution_count": 8
        }
      ]
    },
    {
      "cell_type": "code",
      "metadata": {
        "colab": {
          "base_uri": "https://localhost:8080/"
        },
        "id": "-BBeG76h8oC4",
        "outputId": "ead8bd36-6c11-4d62-e1d2-53b31c6fc6c2"
      },
      "source": [
        "test_data.shape"
      ],
      "execution_count": null,
      "outputs": [
        {
          "output_type": "execute_result",
          "data": {
            "text/plain": [
              "(12140, 11)"
            ]
          },
          "metadata": {
            "tags": []
          },
          "execution_count": 9
        }
      ]
    },
    {
      "cell_type": "markdown",
      "metadata": {
        "id": "bu2Q3BgHrYcM"
      },
      "source": [
        "### Exploratory Data Analysis "
      ]
    },
    {
      "cell_type": "code",
      "metadata": {
        "colab": {
          "base_uri": "https://localhost:8080/"
        },
        "id": "-SxFdL6K83PO",
        "outputId": "f2f682f4-6bbb-46fd-e04d-9d5393358012"
      },
      "source": [
        "train_data.info()"
      ],
      "execution_count": null,
      "outputs": [
        {
          "output_type": "stream",
          "text": [
            "<class 'pandas.core.frame.DataFrame'>\n",
            "RangeIndex: 18208 entries, 0 to 18207\n",
            "Data columns (total 12 columns):\n",
            " #   Column          Non-Null Count  Dtype  \n",
            "---  ------          --------------  -----  \n",
            " 0   Store_Ratio     18208 non-null  float64\n",
            " 1   Basket_Ratio    18208 non-null  float64\n",
            " 2   Category_1      18208 non-null  int64  \n",
            " 3   Store_Score     18208 non-null  float64\n",
            " 4   Category_2      18208 non-null  int64  \n",
            " 5   Store_Presence  18208 non-null  float64\n",
            " 6   Score_1         18208 non-null  float64\n",
            " 7   Score_2         18208 non-null  float64\n",
            " 8   Score_3         18208 non-null  float64\n",
            " 9   Score_4         18208 non-null  float64\n",
            " 10  time            18208 non-null  int64  \n",
            " 11  popularity      18208 non-null  int64  \n",
            "dtypes: float64(8), int64(4)\n",
            "memory usage: 1.7 MB\n"
          ],
          "name": "stdout"
        }
      ]
    },
    {
      "cell_type": "markdown",
      "metadata": {
        "id": "tB2GBUzw9RoB"
      },
      "source": [
        "All values are either Integer or float"
      ]
    },
    {
      "cell_type": "code",
      "metadata": {
        "colab": {
          "base_uri": "https://localhost:8080/"
        },
        "id": "4izd7drt9BlD",
        "outputId": "c12cdbe9-37b3-4cf2-d323-464a3adb1470"
      },
      "source": [
        "train_data.isnull().sum()"
      ],
      "execution_count": null,
      "outputs": [
        {
          "output_type": "execute_result",
          "data": {
            "text/plain": [
              "Store_Ratio       0\n",
              "Basket_Ratio      0\n",
              "Category_1        0\n",
              "Store_Score       0\n",
              "Category_2        0\n",
              "Store_Presence    0\n",
              "Score_1           0\n",
              "Score_2           0\n",
              "Score_3           0\n",
              "Score_4           0\n",
              "time              0\n",
              "popularity        0\n",
              "dtype: int64"
            ]
          },
          "metadata": {
            "tags": []
          },
          "execution_count": 10
        }
      ]
    },
    {
      "cell_type": "markdown",
      "metadata": {
        "id": "R3QxPyZa9JUr"
      },
      "source": [
        "No null values in train set. Check in the test set now "
      ]
    },
    {
      "cell_type": "code",
      "metadata": {
        "colab": {
          "base_uri": "https://localhost:8080/"
        },
        "id": "U7Ti-2XI9H4U",
        "outputId": "cb22659b-d39a-4c97-ad54-86c42e18b366"
      },
      "source": [
        "test_data.isnull().sum()"
      ],
      "execution_count": null,
      "outputs": [
        {
          "output_type": "execute_result",
          "data": {
            "text/plain": [
              "Store_Ratio       0\n",
              "Basket_Ratio      0\n",
              "Category_1        0\n",
              "Store_Score       0\n",
              "Category_2        0\n",
              "Store_Presence    0\n",
              "Score_1           0\n",
              "Score_2           0\n",
              "Score_3           0\n",
              "Score_4           0\n",
              "time              0\n",
              "dtype: int64"
            ]
          },
          "metadata": {
            "tags": []
          },
          "execution_count": 11
        }
      ]
    },
    {
      "cell_type": "code",
      "metadata": {
        "colab": {
          "base_uri": "https://localhost:8080/"
        },
        "id": "HmXsgfwK92F_",
        "outputId": "61365319-5787-4f10-a2f2-09ac04edb734"
      },
      "source": [
        "# class label proportion\n",
        "\n",
        "train_data['popularity'].value_counts()"
      ],
      "execution_count": null,
      "outputs": [
        {
          "output_type": "execute_result",
          "data": {
            "text/plain": [
              "4    15231\n",
              "3     2166\n",
              "5      472\n",
              "1      323\n",
              "0       16\n",
              "Name: popularity, dtype: int64"
            ]
          },
          "metadata": {
            "tags": []
          },
          "execution_count": 9
        }
      ]
    },
    {
      "cell_type": "code",
      "metadata": {
        "colab": {
          "base_uri": "https://localhost:8080/",
          "height": 432
        },
        "id": "v9fDwLCa-Hyy",
        "outputId": "21b4e388-1cb9-47ef-dc05-0c24881982a0"
      },
      "source": [
        "label_dict = dict(train_data['popularity'].value_counts())\n",
        "\n",
        "sns.set_style(\"whitegrid\")\n",
        "plt.figure(figsize = (6, 4))\n",
        "sns.barplot(x = list(label_dict.keys()), y = list(label_dict.values()))\n",
        "plt.xlabel('Class_label')\n",
        "plt.ylabel('Data points per Class')\n",
        "plt.title('Distribution of class label yi in the dataset')\n",
        "plt.show()\n",
        "\n",
        "# Percentage-wise distribution of the class label yi's\n",
        "print(\"- \"* 50)\n",
        "for i in sorted(label_dict.keys()):\n",
        "  print(\"Number of data points in class {0} = {1} ~ {2}%\".format(\n",
        "  i, label_dict[i], round((label_dict[i]*100)/sum(label_dict.values()), 3)))\n",
        "\n",
        "print(\"-\"*50)\n",
        "print(\"total datapoints:\", sum(label_dict.values()))"
      ],
      "execution_count": null,
      "outputs": [
        {
          "output_type": "display_data",
          "data": {
            "image/png": "[encoded data removed]",
            "text/plain": [
              "<Figure size 432x288 with 1 Axes>"
            ]
          },
          "metadata": {
            "tags": []
          }
        },
        {
          "output_type": "stream",
          "text": [
            "- - - - - - - - - - - - - - - - - - - - - - - - - - - - - - - - - - - - - - - - - - - - - - - - - - \n",
            "Number of data points in class 0 = 16 ~ 0.088%\n",
            "Number of data points in class 1 = 323 ~ 1.774%\n",
            "Number of data points in class 3 = 2166 ~ 11.896%\n",
            "Number of data points in class 4 = 15231 ~ 83.65%\n",
            "Number of data points in class 5 = 472 ~ 2.592%\n",
            "--------------------------------------------------\n",
            "total datapoints: 18208\n"
          ],
          "name": "stdout"
        }
      ]
    },
    {
      "cell_type": "markdown",
      "metadata": {
        "id": "_AcJE9PjCb5w"
      },
      "source": [
        "As we can see the class label 4 is highly dominating"
      ]
    },
    {
      "cell_type": "code",
      "metadata": {
        "colab": {
          "base_uri": "https://localhost:8080/",
          "height": 419
        },
        "id": "Kfjc_CVI9Xxo",
        "outputId": "a3272898-7fb8-4f80-b1d7-a5043cdb21af"
      },
      "source": [
        "# Check for duplicate values in the train set\n",
        "\n",
        "train_data[train_data.duplicated()]"
      ],
      "execution_count": null,
      "outputs": [
        {
          "output_type": "execute_result",
          "data": {
            "text/html": [
              "<div>\n",
              "<style scoped>\n",
              "    .dataframe tbody tr th:only-of-type {\n",
              "        vertical-align: middle;\n",
              "    }\n",
              "\n",
              "    .dataframe tbody tr th {\n",
              "        vertical-align: top;\n",
              "    }\n",
              "\n",
              "    .dataframe thead th {\n",
              "        text-align: right;\n",
              "    }\n",
              "</style>\n",
              "<table border=\"1\" class=\"dataframe\">\n",
              "  <thead>\n",
              "    <tr style=\"text-align: right;\">\n",
              "      <th></th>\n",
              "      <th>Store_Ratio</th>\n",
              "      <th>Basket_Ratio</th>\n",
              "      <th>Category_1</th>\n",
              "      <th>Store_Score</th>\n",
              "      <th>Category_2</th>\n",
              "      <th>Store_Presence</th>\n",
              "      <th>Score_1</th>\n",
              "      <th>Score_2</th>\n",
              "      <th>Score_3</th>\n",
              "      <th>Score_4</th>\n",
              "      <th>time</th>\n",
              "      <th>popularity</th>\n",
              "    </tr>\n",
              "  </thead>\n",
              "  <tbody>\n",
              "    <tr>\n",
              "      <th>455</th>\n",
              "      <td>0.641</td>\n",
              "      <td>0.32400</td>\n",
              "      <td>11</td>\n",
              "      <td>-5.851</td>\n",
              "      <td>1</td>\n",
              "      <td>0.69800</td>\n",
              "      <td>0.000000</td>\n",
              "      <td>0.3280</td>\n",
              "      <td>0.2730</td>\n",
              "      <td>110.184</td>\n",
              "      <td>185487</td>\n",
              "      <td>4</td>\n",
              "    </tr>\n",
              "    <tr>\n",
              "      <th>591</th>\n",
              "      <td>0.112</td>\n",
              "      <td>0.02640</td>\n",
              "      <td>7</td>\n",
              "      <td>-28.927</td>\n",
              "      <td>1</td>\n",
              "      <td>0.82100</td>\n",
              "      <td>0.806000</td>\n",
              "      <td>0.1130</td>\n",
              "      <td>0.0596</td>\n",
              "      <td>68.141</td>\n",
              "      <td>277555</td>\n",
              "      <td>4</td>\n",
              "    </tr>\n",
              "    <tr>\n",
              "      <th>598</th>\n",
              "      <td>0.687</td>\n",
              "      <td>0.57700</td>\n",
              "      <td>10</td>\n",
              "      <td>-7.801</td>\n",
              "      <td>0</td>\n",
              "      <td>0.11800</td>\n",
              "      <td>0.841000</td>\n",
              "      <td>0.1080</td>\n",
              "      <td>0.6060</td>\n",
              "      <td>91.988</td>\n",
              "      <td>122609</td>\n",
              "      <td>4</td>\n",
              "    </tr>\n",
              "    <tr>\n",
              "      <th>629</th>\n",
              "      <td>0.320</td>\n",
              "      <td>0.00892</td>\n",
              "      <td>8</td>\n",
              "      <td>-29.206</td>\n",
              "      <td>1</td>\n",
              "      <td>0.99600</td>\n",
              "      <td>0.919000</td>\n",
              "      <td>0.1100</td>\n",
              "      <td>0.3380</td>\n",
              "      <td>91.366</td>\n",
              "      <td>165904</td>\n",
              "      <td>4</td>\n",
              "    </tr>\n",
              "    <tr>\n",
              "      <th>661</th>\n",
              "      <td>0.704</td>\n",
              "      <td>0.88400</td>\n",
              "      <td>8</td>\n",
              "      <td>-6.275</td>\n",
              "      <td>1</td>\n",
              "      <td>0.54900</td>\n",
              "      <td>0.000364</td>\n",
              "      <td>0.0492</td>\n",
              "      <td>0.9640</td>\n",
              "      <td>93.058</td>\n",
              "      <td>228554</td>\n",
              "      <td>4</td>\n",
              "    </tr>\n",
              "    <tr>\n",
              "      <th>...</th>\n",
              "      <td>...</td>\n",
              "      <td>...</td>\n",
              "      <td>...</td>\n",
              "      <td>...</td>\n",
              "      <td>...</td>\n",
              "      <td>...</td>\n",
              "      <td>...</td>\n",
              "      <td>...</td>\n",
              "      <td>...</td>\n",
              "      <td>...</td>\n",
              "      <td>...</td>\n",
              "      <td>...</td>\n",
              "    </tr>\n",
              "    <tr>\n",
              "      <th>18195</th>\n",
              "      <td>0.730</td>\n",
              "      <td>0.70500</td>\n",
              "      <td>5</td>\n",
              "      <td>-4.358</td>\n",
              "      <td>0</td>\n",
              "      <td>0.28600</td>\n",
              "      <td>0.000000</td>\n",
              "      <td>0.1130</td>\n",
              "      <td>0.6550</td>\n",
              "      <td>139.924</td>\n",
              "      <td>175000</td>\n",
              "      <td>4</td>\n",
              "    </tr>\n",
              "    <tr>\n",
              "      <th>18196</th>\n",
              "      <td>0.147</td>\n",
              "      <td>0.38100</td>\n",
              "      <td>1</td>\n",
              "      <td>-28.083</td>\n",
              "      <td>1</td>\n",
              "      <td>0.00136</td>\n",
              "      <td>0.951000</td>\n",
              "      <td>0.0947</td>\n",
              "      <td>0.1430</td>\n",
              "      <td>97.966</td>\n",
              "      <td>210450</td>\n",
              "      <td>4</td>\n",
              "    </tr>\n",
              "    <tr>\n",
              "      <th>18197</th>\n",
              "      <td>0.532</td>\n",
              "      <td>0.02020</td>\n",
              "      <td>4</td>\n",
              "      <td>-22.763</td>\n",
              "      <td>1</td>\n",
              "      <td>0.99300</td>\n",
              "      <td>0.935000</td>\n",
              "      <td>0.1060</td>\n",
              "      <td>0.2850</td>\n",
              "      <td>85.445</td>\n",
              "      <td>168611</td>\n",
              "      <td>4</td>\n",
              "    </tr>\n",
              "    <tr>\n",
              "      <th>18204</th>\n",
              "      <td>0.481</td>\n",
              "      <td>0.01140</td>\n",
              "      <td>4</td>\n",
              "      <td>-26.196</td>\n",
              "      <td>1</td>\n",
              "      <td>0.99100</td>\n",
              "      <td>0.967000</td>\n",
              "      <td>0.0985</td>\n",
              "      <td>0.3430</td>\n",
              "      <td>57.748</td>\n",
              "      <td>155500</td>\n",
              "      <td>4</td>\n",
              "    </tr>\n",
              "    <tr>\n",
              "      <th>18205</th>\n",
              "      <td>0.168</td>\n",
              "      <td>0.00908</td>\n",
              "      <td>5</td>\n",
              "      <td>-33.966</td>\n",
              "      <td>0</td>\n",
              "      <td>0.94700</td>\n",
              "      <td>0.946000</td>\n",
              "      <td>0.1250</td>\n",
              "      <td>0.3960</td>\n",
              "      <td>68.775</td>\n",
              "      <td>172500</td>\n",
              "      <td>4</td>\n",
              "    </tr>\n",
              "  </tbody>\n",
              "</table>\n",
              "<p>2923 rows × 12 columns</p>\n",
              "</div>"
            ],
            "text/plain": [
              "       Store_Ratio  Basket_Ratio  Category_1  ...  Score_4    time  popularity\n",
              "455          0.641       0.32400          11  ...  110.184  185487           4\n",
              "591          0.112       0.02640           7  ...   68.141  277555           4\n",
              "598          0.687       0.57700          10  ...   91.988  122609           4\n",
              "629          0.320       0.00892           8  ...   91.366  165904           4\n",
              "661          0.704       0.88400           8  ...   93.058  228554           4\n",
              "...            ...           ...         ...  ...      ...     ...         ...\n",
              "18195        0.730       0.70500           5  ...  139.924  175000           4\n",
              "18196        0.147       0.38100           1  ...   97.966  210450           4\n",
              "18197        0.532       0.02020           4  ...   85.445  168611           4\n",
              "18204        0.481       0.01140           4  ...   57.748  155500           4\n",
              "18205        0.168       0.00908           5  ...   68.775  172500           4\n",
              "\n",
              "[2923 rows x 12 columns]"
            ]
          },
          "metadata": {
            "tags": []
          },
          "execution_count": 11
        }
      ]
    },
    {
      "cell_type": "code",
      "metadata": {
        "colab": {
          "base_uri": "https://localhost:8080/"
        },
        "id": "CNUFIik69eaQ",
        "outputId": "f9fe36ed-aabe-4918-db0d-3b5b7123e8c2"
      },
      "source": [
        "# remove all the duplicate rows\n",
        "\n",
        "train_data.drop_duplicates(keep = 'first', inplace = True)\n",
        "train_data.shape"
      ],
      "execution_count": null,
      "outputs": [
        {
          "output_type": "execute_result",
          "data": {
            "text/plain": [
              "(15285, 12)"
            ]
          },
          "metadata": {
            "tags": []
          },
          "execution_count": 11
        }
      ]
    },
    {
      "cell_type": "code",
      "metadata": {
        "colab": {
          "base_uri": "https://localhost:8080/",
          "height": 553
        },
        "id": "AGUAaMxRDYUX",
        "outputId": "d686f4cd-f9ff-4612-fb5f-ff36329cc21f"
      },
      "source": [
        "# correlation between the features using heatmap\n",
        "\n",
        "#train_feats = train_data[[i for i in train_data.columns if i!= 'popularity']]\n",
        "\n",
        "plt.figure(figsize = (10, 8))\n",
        "sns.heatmap(train_data.corr(), cmap = 'coolwarm', annot = True)\n",
        "plt.show()"
      ],
      "execution_count": null,
      "outputs": [
        {
          "output_type": "display_data",
          "data": {
            "image/png": "[encoded data removed]",
            "text/plain": [
              "<Figure size 720x576 with 2 Axes>"
            ]
          },
          "metadata": {
            "tags": [],
            "needs_background": "light"
          }
        }
      ]
    },
    {
      "cell_type": "markdown",
      "metadata": {
        "id": "MV4LLMMGNmPX"
      },
      "source": [
        "Now lets see how each feature impacts the popularity score"
      ]
    },
    {
      "cell_type": "code",
      "metadata": {
        "colab": {
          "base_uri": "https://localhost:8080/"
        },
        "id": "pzh6hqpCGXIE",
        "outputId": "9d5c8b8b-8c0c-4fdf-ab19-6a896a488170"
      },
      "source": [
        "train_data['Category_1'].value_counts()"
      ],
      "execution_count": null,
      "outputs": [
        {
          "output_type": "execute_result",
          "data": {
            "text/plain": [
              "0     1921\n",
              "7     1713\n",
              "2     1627\n",
              "9     1418\n",
              "1     1387\n",
              "5     1359\n",
              "4     1141\n",
              "11    1096\n",
              "8     1008\n",
              "6      989\n",
              "10     978\n",
              "3      648\n",
              "Name: Category_1, dtype: int64"
            ]
          },
          "metadata": {
            "tags": []
          },
          "execution_count": 17
        }
      ]
    },
    {
      "cell_type": "code",
      "metadata": {
        "colab": {
          "base_uri": "https://localhost:8080/"
        },
        "id": "-s214ytnN_WJ",
        "outputId": "1268a6ea-8724-415a-93e6-c64c279d6e94"
      },
      "source": [
        "train_data['Category_2'].value_counts()"
      ],
      "execution_count": null,
      "outputs": [
        {
          "output_type": "execute_result",
          "data": {
            "text/plain": [
              "1    9877\n",
              "0    5408\n",
              "Name: Category_2, dtype: int64"
            ]
          },
          "metadata": {
            "tags": []
          },
          "execution_count": 18
        }
      ]
    },
    {
      "cell_type": "code",
      "metadata": {
        "colab": {
          "base_uri": "https://localhost:8080/"
        },
        "id": "v-Ax18nIPTAy",
        "outputId": "dc6b43c0-aefd-438e-d94e-1b71a05e57c2"
      },
      "source": [
        "for i in sorted(train_data['Category_1'].value_counts().keys()):\n",
        "    print(\"Category_1:\", i)\n",
        "    print(train_data[train_data['Category_1'] == i]['Category_2'].value_counts())\n",
        "    print(\"- \"*30)"
      ],
      "execution_count": null,
      "outputs": [
        {
          "output_type": "stream",
          "text": [
            "Category_1: 0\n",
            "1    1469\n",
            "0     452\n",
            "Name: Category_2, dtype: int64\n",
            "- - - - - - - - - - - - - - - - - - - - - - - - - - - - - - \n",
            "Category_1: 1\n",
            "1    958\n",
            "0    429\n",
            "Name: Category_2, dtype: int64\n",
            "- - - - - - - - - - - - - - - - - - - - - - - - - - - - - - \n",
            "Category_1: 2\n",
            "1    1233\n",
            "0     394\n",
            "Name: Category_2, dtype: int64\n",
            "- - - - - - - - - - - - - - - - - - - - - - - - - - - - - - \n",
            "Category_1: 3\n",
            "1    455\n",
            "0    193\n",
            "Name: Category_2, dtype: int64\n",
            "- - - - - - - - - - - - - - - - - - - - - - - - - - - - - - \n",
            "Category_1: 4\n",
            "1    593\n",
            "0    548\n",
            "Name: Category_2, dtype: int64\n",
            "- - - - - - - - - - - - - - - - - - - - - - - - - - - - - - \n",
            "Category_1: 5\n",
            "1    819\n",
            "0    540\n",
            "Name: Category_2, dtype: int64\n",
            "- - - - - - - - - - - - - - - - - - - - - - - - - - - - - - \n",
            "Category_1: 6\n",
            "1    543\n",
            "0    446\n",
            "Name: Category_2, dtype: int64\n",
            "- - - - - - - - - - - - - - - - - - - - - - - - - - - - - - \n",
            "Category_1: 7\n",
            "1    1280\n",
            "0     433\n",
            "Name: Category_2, dtype: int64\n",
            "- - - - - - - - - - - - - - - - - - - - - - - - - - - - - - \n",
            "Category_1: 8\n",
            "1    721\n",
            "0    287\n",
            "Name: Category_2, dtype: int64\n",
            "- - - - - - - - - - - - - - - - - - - - - - - - - - - - - - \n",
            "Category_1: 9\n",
            "1    839\n",
            "0    579\n",
            "Name: Category_2, dtype: int64\n",
            "- - - - - - - - - - - - - - - - - - - - - - - - - - - - - - \n",
            "Category_1: 10\n",
            "1    523\n",
            "0    455\n",
            "Name: Category_2, dtype: int64\n",
            "- - - - - - - - - - - - - - - - - - - - - - - - - - - - - - \n",
            "Category_1: 11\n",
            "0    652\n",
            "1    444\n",
            "Name: Category_2, dtype: int64\n",
            "- - - - - - - - - - - - - - - - - - - - - - - - - - - - - - \n"
          ],
          "name": "stdout"
        }
      ]
    },
    {
      "cell_type": "code",
      "metadata": {
        "colab": {
          "base_uri": "https://localhost:8080/"
        },
        "id": "JL1V6ysXOncN",
        "outputId": "143bb03e-8055-4cd8-b5bd-8da6cebfeaa2"
      },
      "source": [
        "for i in sorted(train_data['Category_1'].value_counts().keys()):\n",
        "    print(\"Category_1:\", i)\n",
        "    print(train_data[train_data['Category_1'] == i]['popularity'].value_counts())\n",
        "    print(\"- \"*30)"
      ],
      "execution_count": null,
      "outputs": [
        {
          "output_type": "stream",
          "text": [
            "Category_1: 0\n",
            "4    1588\n",
            "3     250\n",
            "5      53\n",
            "1      25\n",
            "0       5\n",
            "Name: popularity, dtype: int64\n",
            "- - - - - - - - - - - - - - - - - - - - - - - - - - - - - - \n",
            "Category_1: 1\n",
            "4    1201\n",
            "3     123\n",
            "5      37\n",
            "1      25\n",
            "0       1\n",
            "Name: popularity, dtype: int64\n",
            "- - - - - - - - - - - - - - - - - - - - - - - - - - - - - - \n",
            "Category_1: 2\n",
            "4    1345\n",
            "3     209\n",
            "5      46\n",
            "1      27\n",
            "Name: popularity, dtype: int64\n",
            "- - - - - - - - - - - - - - - - - - - - - - - - - - - - - - \n",
            "Category_1: 3\n",
            "4    515\n",
            "3    103\n",
            "5     16\n",
            "1     13\n",
            "0      1\n",
            "Name: popularity, dtype: int64\n",
            "- - - - - - - - - - - - - - - - - - - - - - - - - - - - - - \n",
            "Category_1: 4\n",
            "4    945\n",
            "3    149\n",
            "5     29\n",
            "1     17\n",
            "0      1\n",
            "Name: popularity, dtype: int64\n",
            "- - - - - - - - - - - - - - - - - - - - - - - - - - - - - - \n",
            "Category_1: 5\n",
            "4    1148\n",
            "3     161\n",
            "5      26\n",
            "1      20\n",
            "0       4\n",
            "Name: popularity, dtype: int64\n",
            "- - - - - - - - - - - - - - - - - - - - - - - - - - - - - - \n",
            "Category_1: 6\n",
            "4    840\n",
            "3    103\n",
            "5     25\n",
            "1     21\n",
            "Name: popularity, dtype: int64\n",
            "- - - - - - - - - - - - - - - - - - - - - - - - - - - - - - \n",
            "Category_1: 7\n",
            "4    1454\n",
            "3     192\n",
            "5      42\n",
            "1      25\n",
            "Name: popularity, dtype: int64\n",
            "- - - - - - - - - - - - - - - - - - - - - - - - - - - - - - \n",
            "Category_1: 8\n",
            "4    850\n",
            "3    111\n",
            "5     28\n",
            "1     18\n",
            "0      1\n",
            "Name: popularity, dtype: int64\n",
            "- - - - - - - - - - - - - - - - - - - - - - - - - - - - - - \n",
            "Category_1: 9\n",
            "4    1185\n",
            "3     169\n",
            "1      35\n",
            "5      29\n",
            "Name: popularity, dtype: int64\n",
            "- - - - - - - - - - - - - - - - - - - - - - - - - - - - - - \n",
            "Category_1: 10\n",
            "4    812\n",
            "3    123\n",
            "5     23\n",
            "1     20\n",
            "Name: popularity, dtype: int64\n",
            "- - - - - - - - - - - - - - - - - - - - - - - - - - - - - - \n",
            "Category_1: 11\n",
            "4    967\n",
            "3     91\n",
            "5     22\n",
            "1     15\n",
            "0      1\n",
            "Name: popularity, dtype: int64\n",
            "- - - - - - - - - - - - - - - - - - - - - - - - - - - - - - \n"
          ],
          "name": "stdout"
        }
      ]
    },
    {
      "cell_type": "code",
      "metadata": {
        "colab": {
          "base_uri": "https://localhost:8080/"
        },
        "id": "obc0NHIpPIF_",
        "outputId": "599fec02-b9d5-4c9a-d607-4a7b786a41ec"
      },
      "source": [
        "for i in sorted(train_data['Category_2'].value_counts().keys()):\n",
        "    print(\"Category_2:\", i)\n",
        "    print(train_data[train_data['Category_2'] == i]['popularity'].value_counts())\n",
        "    print(\"- \"*30)"
      ],
      "execution_count": null,
      "outputs": [
        {
          "output_type": "stream",
          "text": [
            "Category_2: 0\n",
            "4    4641\n",
            "3     546\n",
            "5     138\n",
            "1      79\n",
            "0       4\n",
            "Name: popularity, dtype: int64\n",
            "- - - - - - - - - - - - - - - - - - - - - - - - - - - - - - \n",
            "Category_2: 1\n",
            "4    8209\n",
            "3    1238\n",
            "5     238\n",
            "1     182\n",
            "0      10\n",
            "Name: popularity, dtype: int64\n",
            "- - - - - - - - - - - - - - - - - - - - - - - - - - - - - - \n"
          ],
          "name": "stdout"
        }
      ]
    },
    {
      "cell_type": "code",
      "metadata": {
        "colab": {
          "base_uri": "https://localhost:8080/"
        },
        "id": "dheSgFMFSjpn",
        "outputId": "db87f8aa-5e21-4bfe-bcc8-7647f0ae569e"
      },
      "source": [
        "train_data['Category_2'].value_counts()"
      ],
      "execution_count": null,
      "outputs": [
        {
          "output_type": "execute_result",
          "data": {
            "text/plain": [
              "1    9877\n",
              "0    5408\n",
              "Name: Category_2, dtype: int64"
            ]
          },
          "metadata": {
            "tags": []
          },
          "execution_count": 22
        }
      ]
    },
    {
      "cell_type": "markdown",
      "metadata": {
        "id": "yY66VQSyTBkg"
      },
      "source": [
        "Conclusion: \n",
        "\n",
        "1. Any particular Category ( Category_1 or Category_2) has no influence on the popularity. "
      ]
    },
    {
      "cell_type": "code",
      "metadata": {
        "colab": {
          "base_uri": "https://localhost:8080/",
          "height": 204
        },
        "id": "NVrYsYCmS75J",
        "outputId": "3d1d26ad-7131-4a8d-f90d-0cd9196ef909"
      },
      "source": [
        "train_data.head()"
      ],
      "execution_count": null,
      "outputs": [
        {
          "output_type": "execute_result",
          "data": {
            "text/html": [
              "<div>\n",
              "<style scoped>\n",
              "    .dataframe tbody tr th:only-of-type {\n",
              "        vertical-align: middle;\n",
              "    }\n",
              "\n",
              "    .dataframe tbody tr th {\n",
              "        vertical-align: top;\n",
              "    }\n",
              "\n",
              "    .dataframe thead th {\n",
              "        text-align: right;\n",
              "    }\n",
              "</style>\n",
              "<table border=\"1\" class=\"dataframe\">\n",
              "  <thead>\n",
              "    <tr style=\"text-align: right;\">\n",
              "      <th></th>\n",
              "      <th>Store_Ratio</th>\n",
              "      <th>Basket_Ratio</th>\n",
              "      <th>Category_1</th>\n",
              "      <th>Store_Score</th>\n",
              "      <th>Category_2</th>\n",
              "      <th>Store_Presence</th>\n",
              "      <th>Score_1</th>\n",
              "      <th>Score_2</th>\n",
              "      <th>Score_3</th>\n",
              "      <th>Score_4</th>\n",
              "      <th>time</th>\n",
              "      <th>popularity</th>\n",
              "    </tr>\n",
              "  </thead>\n",
              "  <tbody>\n",
              "    <tr>\n",
              "      <th>0</th>\n",
              "      <td>0.407</td>\n",
              "      <td>0.00380</td>\n",
              "      <td>2</td>\n",
              "      <td>-35.865</td>\n",
              "      <td>1</td>\n",
              "      <td>0.9920</td>\n",
              "      <td>0.944</td>\n",
              "      <td>0.0988</td>\n",
              "      <td>0.1100</td>\n",
              "      <td>113.911</td>\n",
              "      <td>189125</td>\n",
              "      <td>4</td>\n",
              "    </tr>\n",
              "    <tr>\n",
              "      <th>1</th>\n",
              "      <td>0.234</td>\n",
              "      <td>0.10500</td>\n",
              "      <td>0</td>\n",
              "      <td>-19.884</td>\n",
              "      <td>1</td>\n",
              "      <td>0.9440</td>\n",
              "      <td>0.900</td>\n",
              "      <td>0.1290</td>\n",
              "      <td>0.0382</td>\n",
              "      <td>76.332</td>\n",
              "      <td>186513</td>\n",
              "      <td>4</td>\n",
              "    </tr>\n",
              "    <tr>\n",
              "      <th>2</th>\n",
              "      <td>0.668</td>\n",
              "      <td>0.72600</td>\n",
              "      <td>9</td>\n",
              "      <td>-7.512</td>\n",
              "      <td>1</td>\n",
              "      <td>0.0387</td>\n",
              "      <td>0.000</td>\n",
              "      <td>0.1340</td>\n",
              "      <td>0.4530</td>\n",
              "      <td>124.075</td>\n",
              "      <td>172143</td>\n",
              "      <td>4</td>\n",
              "    </tr>\n",
              "    <tr>\n",
              "      <th>3</th>\n",
              "      <td>0.184</td>\n",
              "      <td>0.00561</td>\n",
              "      <td>4</td>\n",
              "      <td>-34.357</td>\n",
              "      <td>1</td>\n",
              "      <td>0.8490</td>\n",
              "      <td>0.931</td>\n",
              "      <td>0.1110</td>\n",
              "      <td>0.0641</td>\n",
              "      <td>79.037</td>\n",
              "      <td>184000</td>\n",
              "      <td>5</td>\n",
              "    </tr>\n",
              "    <tr>\n",
              "      <th>4</th>\n",
              "      <td>0.231</td>\n",
              "      <td>0.13100</td>\n",
              "      <td>6</td>\n",
              "      <td>-22.842</td>\n",
              "      <td>1</td>\n",
              "      <td>0.9370</td>\n",
              "      <td>0.000</td>\n",
              "      <td>0.1090</td>\n",
              "      <td>0.0677</td>\n",
              "      <td>109.560</td>\n",
              "      <td>186507</td>\n",
              "      <td>3</td>\n",
              "    </tr>\n",
              "  </tbody>\n",
              "</table>\n",
              "</div>"
            ],
            "text/plain": [
              "   Store_Ratio  Basket_Ratio  Category_1  ...  Score_4    time  popularity\n",
              "0        0.407       0.00380           2  ...  113.911  189125           4\n",
              "1        0.234       0.10500           0  ...   76.332  186513           4\n",
              "2        0.668       0.72600           9  ...  124.075  172143           4\n",
              "3        0.184       0.00561           4  ...   79.037  184000           5\n",
              "4        0.231       0.13100           6  ...  109.560  186507           3\n",
              "\n",
              "[5 rows x 12 columns]"
            ]
          },
          "metadata": {
            "tags": []
          },
          "execution_count": 23
        }
      ]
    },
    {
      "cell_type": "markdown",
      "metadata": {
        "id": "_s5Cf9_-OnJT"
      },
      "source": [
        "#### Store Presence and Popularity"
      ]
    },
    {
      "cell_type": "code",
      "metadata": {
        "colab": {
          "base_uri": "https://localhost:8080/",
          "height": 369
        },
        "id": "6CpoU-O0Vrhl",
        "outputId": "acaa6b50-642e-4eaf-ef5e-4e2474ef7b95"
      },
      "source": [
        "sns.FacetGrid(train_data, hue = \"popularity\", height = 5).map(sns.distplot, \"Store_Presence\").add_legend()\n",
        "plt.show()"
      ],
      "execution_count": null,
      "outputs": [
        {
          "output_type": "display_data",
          "data": {
            "image/png": "[encoded data removed]",
            "text/plain": [
              "<Figure size 418.625x360 with 1 Axes>"
            ]
          },
          "metadata": {
            "tags": []
          }
        }
      ]
    },
    {
      "cell_type": "markdown",
      "metadata": {
        "id": "8S_mMbT7OtSp"
      },
      "source": [
        "#### Store ratio and Popularity"
      ]
    },
    {
      "cell_type": "code",
      "metadata": {
        "colab": {
          "base_uri": "https://localhost:8080/",
          "height": 369
        },
        "id": "uTm6yB09cFVa",
        "outputId": "4cef56b0-e38c-4434-9848-936962aef399"
      },
      "source": [
        "sns.FacetGrid(train_data, hue = \"popularity\", height = 5).map(sns.distplot, \"Store_Ratio\").add_legend()\n",
        "plt.show()"
      ],
      "execution_count": null,
      "outputs": [
        {
          "output_type": "display_data",
          "data": {
            "image/png": "[encoded data removed]",
            "text/plain": [
              "<Figure size 418.625x360 with 1 Axes>"
            ]
          },
          "metadata": {
            "tags": []
          }
        }
      ]
    },
    {
      "cell_type": "markdown",
      "metadata": {
        "id": "F-sY9a6hfeEf"
      },
      "source": [
        "This feaure can seperate 4 and other labels well"
      ]
    },
    {
      "cell_type": "markdown",
      "metadata": {
        "id": "xbXzQFL3OydZ"
      },
      "source": [
        "#### Basket ratio and Popularity"
      ]
    },
    {
      "cell_type": "code",
      "metadata": {
        "colab": {
          "base_uri": "https://localhost:8080/",
          "height": 369
        },
        "id": "TFHB1kc8dBeY",
        "outputId": "de78783f-1f4a-4229-9683-608842cb7113"
      },
      "source": [
        "sns.FacetGrid(train_data, hue = \"popularity\", height = 5).map(sns.distplot, \"Basket_Ratio\").add_legend()\n",
        "plt.show()"
      ],
      "execution_count": null,
      "outputs": [
        {
          "output_type": "display_data",
          "data": {
            "image/png": "[encoded data removed]",
            "text/plain": [
              "<Figure size 418.625x360 with 1 Axes>"
            ]
          },
          "metadata": {
            "tags": []
          }
        }
      ]
    },
    {
      "cell_type": "markdown",
      "metadata": {
        "id": "HyJm3jpFfag5"
      },
      "source": [
        "This feature can seperate 4 and other labels well"
      ]
    },
    {
      "cell_type": "markdown",
      "metadata": {
        "id": "OLZng47wO4Gk"
      },
      "source": [
        "#### Store Score and Popularity"
      ]
    },
    {
      "cell_type": "code",
      "metadata": {
        "colab": {
          "base_uri": "https://localhost:8080/",
          "height": 369
        },
        "id": "C6p9br_ne20S",
        "outputId": "2a958386-f695-4330-e94c-026d4aabe59e"
      },
      "source": [
        "sns.FacetGrid(train_data, hue = \"popularity\", height = 5).map(sns.distplot, \"Store_Score\").add_legend()\n",
        "plt.show()"
      ],
      "execution_count": null,
      "outputs": [
        {
          "output_type": "display_data",
          "data": {
            "image/png": "[encoded data removed]",
            "text/plain": [
              "<Figure size 418.625x360 with 1 Axes>"
            ]
          },
          "metadata": {
            "tags": []
          }
        }
      ]
    },
    {
      "cell_type": "markdown",
      "metadata": {
        "id": "bTs7gHkKfUy7"
      },
      "source": [
        "This feature can distinguish well between 0 and 4 labels "
      ]
    },
    {
      "cell_type": "markdown",
      "metadata": {
        "id": "MVWHv7-HO_Ys"
      },
      "source": [
        "#### Popularity and TIme"
      ]
    },
    {
      "cell_type": "code",
      "metadata": {
        "colab": {
          "base_uri": "https://localhost:8080/",
          "height": 369
        },
        "id": "_gSXbnNke5QH",
        "outputId": "c988540c-503b-4975-fc9c-982cdb625444"
      },
      "source": [
        "sns.FacetGrid(train_data, hue = \"popularity\", height = 5).map(sns.distplot, \"time\").add_legend()\n",
        "plt.show()"
      ],
      "execution_count": null,
      "outputs": [
        {
          "output_type": "display_data",
          "data": {
            "image/png": "[encoded data removed]",
            "text/plain": [
              "<Figure size 418.625x360 with 1 Axes>"
            ]
          },
          "metadata": {
            "tags": []
          }
        }
      ]
    },
    {
      "cell_type": "markdown",
      "metadata": {
        "id": "HRB3VwZihm-o"
      },
      "source": [
        "## Modelling "
      ]
    },
    {
      "cell_type": "markdown",
      "metadata": {
        "id": "dMPsJTlhhqqz"
      },
      "source": [
        "### Data preprocessing "
      ]
    },
    {
      "cell_type": "code",
      "metadata": {
        "id": "y5Y7pWqWhqK8"
      },
      "source": [
        "from sklearn.preprocessing import OneHotEncoder\n",
        "from sklearn.preprocessing import StandardScaler"
      ],
      "execution_count": null,
      "outputs": []
    },
    {
      "cell_type": "code",
      "metadata": {
        "colab": {
          "base_uri": "https://localhost:8080/"
        },
        "id": "ZBGyY-ukfrQ8",
        "outputId": "ef93426f-2885-4e62-8107-741bf3f043a1"
      },
      "source": [
        "# One hot encoding categorical variables\n",
        "\n",
        "encoder = OneHotEncoder()\n",
        "encoder.fit(train_data['Category_1'].values.reshape(-1, 1))\n",
        "X_train_cat_1 = encoder.transform(train_data['Category_1'].values.reshape(-1, 1))\n",
        "X_test_cat_1 = encoder.transform(test_data['Category_1'].values.reshape(-1, 1))\n",
        "\n",
        "print(X_train_cat_1.shape)\n",
        "print(X_test_cat_1.shape)"
      ],
      "execution_count": null,
      "outputs": [
        {
          "output_type": "stream",
          "text": [
            "(15285, 12)\n",
            "(12140, 12)\n"
          ],
          "name": "stdout"
        }
      ]
    },
    {
      "cell_type": "code",
      "metadata": {
        "colab": {
          "base_uri": "https://localhost:8080/"
        },
        "id": "ejduXI3FjLfW",
        "outputId": "acc9e2a1-cae7-4218-c1b0-dc810d71d540"
      },
      "source": [
        "train_data.columns"
      ],
      "execution_count": null,
      "outputs": [
        {
          "output_type": "execute_result",
          "data": {
            "text/plain": [
              "Index(['Store_Ratio', 'Basket_Ratio', 'Category_1', 'Store_Score',\n",
              "       'Category_2', 'Store_Presence', 'Score_1', 'Score_2', 'Score_3',\n",
              "       'Score_4', 'time', 'popularity'],\n",
              "      dtype='object')"
            ]
          },
          "metadata": {
            "tags": []
          },
          "execution_count": 16
        }
      ]
    },
    {
      "cell_type": "code",
      "metadata": {
        "colab": {
          "base_uri": "https://localhost:8080/"
        },
        "id": "XCeATXycjkL4",
        "outputId": "5e6a08c9-7deb-47a4-833b-c899b50ff122"
      },
      "source": [
        "# scaling numerical columns\n",
        "\n",
        "numerical_cols = ['Store_Ratio', 'Basket_Ratio', 'Store_Score', 'Store_Presence', \n",
        "                  'Score_1', 'Score_2', 'Score_3','Score_4', 'time']\n",
        "\n",
        "X_train_num = train_data[numerical_cols]\n",
        "X_test_num = test_data[numerical_cols]\n",
        "\n",
        "scaler = StandardScaler()\n",
        "scaler.fit(X_train_num)\n",
        "X_train_num_std = scaler.transform(X_train_num)\n",
        "X_test_num_std = scaler.transform(X_test_num)\n",
        "\n",
        "print(X_train_num_std.shape)\n",
        "print(X_test_num_std.shape)"
      ],
      "execution_count": null,
      "outputs": [
        {
          "output_type": "stream",
          "text": [
            "(15285, 9)\n",
            "(12140, 9)\n"
          ],
          "name": "stdout"
        }
      ]
    },
    {
      "cell_type": "code",
      "metadata": {
        "colab": {
          "base_uri": "https://localhost:8080/"
        },
        "id": "gdKI4WY9kwgS",
        "outputId": "864f8497-3af6-4528-8b7e-bd505e8c0c19"
      },
      "source": [
        "# Category_2\n",
        "\n",
        "X_train_cat_2 = train_data['Category_2'].values.reshape(-1, 1)\n",
        "X_test_cat_2 = test_data['Category_2'].values.reshape(-1, 1)\n",
        "\n",
        "print(X_train_cat_2.shape)\n",
        "print(X_test_cat_2.shape)"
      ],
      "execution_count": null,
      "outputs": [
        {
          "output_type": "stream",
          "text": [
            "(15285, 1)\n",
            "(12140, 1)\n"
          ],
          "name": "stdout"
        }
      ]
    },
    {
      "cell_type": "code",
      "metadata": {
        "colab": {
          "base_uri": "https://localhost:8080/"
        },
        "id": "3XLzB5umj4ZX",
        "outputId": "1a0bf9d3-948d-4a18-8d26-448db118b89a"
      },
      "source": [
        "# now consolidate all columns\n",
        "from scipy.sparse import hstack\n",
        "\n",
        "X_train = hstack((X_train_cat_1, X_train_cat_2, X_train_num_std))\n",
        "X_test = hstack((X_test_cat_1, X_test_cat_2, X_test_num_std))\n",
        "\n",
        "y_train = train_data['popularity'].values\n",
        "\n",
        "print(X_train.shape, y_train.shape)\n",
        "print(X_test.shape)"
      ],
      "execution_count": null,
      "outputs": [
        {
          "output_type": "stream",
          "text": [
            "(15285, 22) (15285,)\n",
            "(12140, 22)\n"
          ],
          "name": "stdout"
        }
      ]
    },
    {
      "cell_type": "markdown",
      "metadata": {
        "id": "9JGyYYmSptLB"
      },
      "source": [
        "### Linear Regression\n",
        "(With hyperparameter tuning)"
      ]
    },
    {
      "cell_type": "code",
      "metadata": {
        "colab": {
          "base_uri": "https://localhost:8080/"
        },
        "id": "ohh-an3lj-Mc",
        "outputId": "e9de5597-55bb-4639-d695-04605738041c"
      },
      "source": [
        "from sklearn.linear_model import LogisticRegression\n",
        "from sklearn.model_selection import GridSearchCV\n",
        "\n",
        "lr = LogisticRegression(random_state=21) # default penalty is L2 \n",
        "parameter = {'C': [0.001, 0.01, 0.1, 1, 10, 100, 1000]} # setting hyperparameter from 10^-3 to 10^3 in powers of 10\n",
        "clf = GridSearchCV(lr, parameter, cv = 5, scoring = 'neg_log_loss', n_jobs = -1, return_train_score = True)\n",
        "clf.fit(X_train, y_train)"
      ],
      "execution_count": null,
      "outputs": [
        {
          "output_type": "execute_result",
          "data": {
            "text/plain": [
              "GridSearchCV(cv=5, error_score=nan,\n",
              "             estimator=LogisticRegression(C=1.0, class_weight=None, dual=False,\n",
              "                                          fit_intercept=True,\n",
              "                                          intercept_scaling=1, l1_ratio=None,\n",
              "                                          max_iter=100, multi_class='auto',\n",
              "                                          n_jobs=None, penalty='l2',\n",
              "                                          random_state=21, solver='lbfgs',\n",
              "                                          tol=0.0001, verbose=0,\n",
              "                                          warm_start=False),\n",
              "             iid='deprecated', n_jobs=-1,\n",
              "             param_grid={'C': [0.001, 0.01, 0.1, 1, 10, 100, 1000]},\n",
              "             pre_dispatch='2*n_jobs', refit=True, return_train_score=True,\n",
              "             scoring='neg_log_loss', verbose=0)"
            ]
          },
          "metadata": {
            "tags": []
          },
          "execution_count": 30
        }
      ]
    },
    {
      "cell_type": "code",
      "metadata": {
        "colab": {
          "base_uri": "https://localhost:8080/",
          "height": 283
        },
        "id": "UCQD1aMYvTkL",
        "outputId": "d88ff735-6e6d-43f3-a4c8-473ed484cc7a"
      },
      "source": [
        "# Plotting neg_log_loss for train data and validation data to determine optimal hyperparameter\n",
        "\n",
        "train_loss = clf.cv_results_['mean_train_score']\n",
        "cv_loss = clf.cv_results_['mean_test_score'] \n",
        "plt.plot(parameter['C'], train_loss, label = 'Train score')\n",
        "plt.plot(parameter['C'], cv_loss, label = 'CV score')\n",
        "\n",
        "plt.scatter(parameter['C'], train_loss, label = 'Train score')\n",
        "plt.scatter(parameter['C'], cv_loss, label = 'CV score')\n",
        "plt.xscale('log') \n",
        "\n",
        "plt.legend()\n",
        "plt.xlabel(\"hyperparameter: C\")\n",
        "plt.ylabel(\"neg log loss\")\n",
        "plt.show()"
      ],
      "execution_count": null,
      "outputs": [
        {
          "output_type": "display_data",
          "data": {
            "image/png": "[encoded data removed]",
            "text/plain": [
              "<Figure size 432x288 with 1 Axes>"
            ]
          },
          "metadata": {
            "tags": []
          }
        }
      ]
    },
    {
      "cell_type": "code",
      "metadata": {
        "colab": {
          "base_uri": "https://localhost:8080/"
        },
        "id": "W5zDmazmwccg",
        "outputId": "cf0794c4-ad86-480b-bee9-a06d867c540b"
      },
      "source": [
        "cv_loss"
      ],
      "execution_count": null,
      "outputs": [
        {
          "output_type": "execute_result",
          "data": {
            "text/plain": [
              "array([-0.48254843, -0.47656431, -0.47448362, -0.47418347, -0.47412467,\n",
              "       -0.47406064, -0.47408352])"
            ]
          },
          "metadata": {
            "tags": []
          },
          "execution_count": 32
        }
      ]
    },
    {
      "cell_type": "code",
      "metadata": {
        "colab": {
          "base_uri": "https://localhost:8080/"
        },
        "id": "pVEHbr5hvv-4",
        "outputId": "d04ce94a-0470-41bb-8c1a-7dc62d08b0fe"
      },
      "source": [
        "print(clf.best_params_)\n",
        "print(clf.best_score_)"
      ],
      "execution_count": null,
      "outputs": [
        {
          "output_type": "stream",
          "text": [
            "{'C': 100}\n",
            "-0.4740606421758806\n"
          ],
          "name": "stdout"
        }
      ]
    },
    {
      "cell_type": "code",
      "metadata": {
        "colab": {
          "base_uri": "https://localhost:8080/"
        },
        "id": "zhB_DhdXuxQQ",
        "outputId": "05948b90-4db9-4b1c-ec43-cfed296478e4"
      },
      "source": [
        "from sklearn.metrics import log_loss\n",
        "\n",
        "lr = LogisticRegression(C = 100, random_state = 21) # default penalty is L2 \n",
        "lr.fit(X_train, y_train)\n",
        "y_pred_test = lr.predict_proba(X_test)\n",
        "y_pred_train = lr.predict_proba(X_train)\n",
        "\n",
        "train_loss = log_loss(y_train, y_pred_train, labels = lr.classes_, eps = 1e-15)\n",
        "print(train_loss)"
      ],
      "execution_count": null,
      "outputs": [
        {
          "output_type": "stream",
          "text": [
            "0.4687315096384044\n"
          ],
          "name": "stdout"
        }
      ]
    },
    {
      "cell_type": "code",
      "metadata": {
        "colab": {
          "base_uri": "https://localhost:8080/"
        },
        "id": "6VhaBb7zyBb1",
        "outputId": "4ef75298-64ec-41bf-ea0d-ec5f31b9cf5b"
      },
      "source": [
        "lr.classes_"
      ],
      "execution_count": null,
      "outputs": [
        {
          "output_type": "execute_result",
          "data": {
            "text/plain": [
              "array([0, 1, 3, 4, 5])"
            ]
          },
          "metadata": {
            "tags": []
          },
          "execution_count": 40
        }
      ]
    },
    {
      "cell_type": "code",
      "metadata": {
        "colab": {
          "base_uri": "https://localhost:8080/"
        },
        "id": "aREOr8YKx-94",
        "outputId": "2eb5452f-55c7-4073-c8cc-eaf34e30571c"
      },
      "source": [
        "y_pred_test"
      ],
      "execution_count": null,
      "outputs": [
        {
          "output_type": "execute_result",
          "data": {
            "text/plain": [
              "array([[1.96868048e-10, 5.16441995e-02, 1.07103507e-01, 7.52157039e-01,\n",
              "        8.90952544e-02],\n",
              "       [1.50405308e-11, 4.19927352e-03, 5.24841030e-02, 9.35302349e-01,\n",
              "        8.01427481e-03],\n",
              "       [3.12034393e-12, 5.41919723e-03, 9.23932204e-02, 8.87483835e-01,\n",
              "        1.47037471e-02],\n",
              "       ...,\n",
              "       [7.77100781e-10, 5.38631647e-03, 3.60427915e-02, 9.48444003e-01,\n",
              "        1.01268883e-02],\n",
              "       [1.50830957e-07, 3.75356947e-03, 2.63134567e-02, 9.65700981e-01,\n",
              "        4.23184235e-03],\n",
              "       [2.90085634e-08, 3.65968208e-02, 2.51819161e-01, 6.79012196e-01,\n",
              "        3.25717934e-02]])"
            ]
          },
          "metadata": {
            "tags": []
          },
          "execution_count": 41
        }
      ]
    },
    {
      "cell_type": "code",
      "metadata": {
        "colab": {
          "base_uri": "https://localhost:8080/",
          "height": 204
        },
        "id": "pqBvLE1XyExt",
        "outputId": "2f6c4bb7-c12e-4b55-f500-06696faddca0"
      },
      "source": [
        "lr_tuned_df = pd.DataFrame(y_pred_test)\n",
        "lr_tuned_df.head()"
      ],
      "execution_count": null,
      "outputs": [
        {
          "output_type": "execute_result",
          "data": {
            "text/html": [
              "<div>\n",
              "<style scoped>\n",
              "    .dataframe tbody tr th:only-of-type {\n",
              "        vertical-align: middle;\n",
              "    }\n",
              "\n",
              "    .dataframe tbody tr th {\n",
              "        vertical-align: top;\n",
              "    }\n",
              "\n",
              "    .dataframe thead th {\n",
              "        text-align: right;\n",
              "    }\n",
              "</style>\n",
              "<table border=\"1\" class=\"dataframe\">\n",
              "  <thead>\n",
              "    <tr style=\"text-align: right;\">\n",
              "      <th></th>\n",
              "      <th>0</th>\n",
              "      <th>1</th>\n",
              "      <th>2</th>\n",
              "      <th>3</th>\n",
              "      <th>4</th>\n",
              "    </tr>\n",
              "  </thead>\n",
              "  <tbody>\n",
              "    <tr>\n",
              "      <th>0</th>\n",
              "      <td>1.968680e-10</td>\n",
              "      <td>0.051644</td>\n",
              "      <td>0.107104</td>\n",
              "      <td>0.752157</td>\n",
              "      <td>0.089095</td>\n",
              "    </tr>\n",
              "    <tr>\n",
              "      <th>1</th>\n",
              "      <td>1.504053e-11</td>\n",
              "      <td>0.004199</td>\n",
              "      <td>0.052484</td>\n",
              "      <td>0.935302</td>\n",
              "      <td>0.008014</td>\n",
              "    </tr>\n",
              "    <tr>\n",
              "      <th>2</th>\n",
              "      <td>3.120344e-12</td>\n",
              "      <td>0.005419</td>\n",
              "      <td>0.092393</td>\n",
              "      <td>0.887484</td>\n",
              "      <td>0.014704</td>\n",
              "    </tr>\n",
              "    <tr>\n",
              "      <th>3</th>\n",
              "      <td>8.609006e-08</td>\n",
              "      <td>0.005124</td>\n",
              "      <td>0.045173</td>\n",
              "      <td>0.940945</td>\n",
              "      <td>0.008758</td>\n",
              "    </tr>\n",
              "    <tr>\n",
              "      <th>4</th>\n",
              "      <td>6.686101e-11</td>\n",
              "      <td>0.000864</td>\n",
              "      <td>0.016149</td>\n",
              "      <td>0.979392</td>\n",
              "      <td>0.003595</td>\n",
              "    </tr>\n",
              "  </tbody>\n",
              "</table>\n",
              "</div>"
            ],
            "text/plain": [
              "              0         1         2         3         4\n",
              "0  1.968680e-10  0.051644  0.107104  0.752157  0.089095\n",
              "1  1.504053e-11  0.004199  0.052484  0.935302  0.008014\n",
              "2  3.120344e-12  0.005419  0.092393  0.887484  0.014704\n",
              "3  8.609006e-08  0.005124  0.045173  0.940945  0.008758\n",
              "4  6.686101e-11  0.000864  0.016149  0.979392  0.003595"
            ]
          },
          "metadata": {
            "tags": []
          },
          "execution_count": 43
        }
      ]
    },
    {
      "cell_type": "code",
      "metadata": {
        "id": "glPpV_ZmmWI8"
      },
      "source": [
        "lr_tuned_df.to_csv(my_path + 'LR_C100.csv', index = False)"
      ],
      "execution_count": null,
      "outputs": []
    },
    {
      "cell_type": "markdown",
      "metadata": {
        "id": "AW89xYzQveiV"
      },
      "source": [
        "### Using Calibration with Linear regression"
      ]
    },
    {
      "cell_type": "code",
      "metadata": {
        "colab": {
          "base_uri": "https://localhost:8080/"
        },
        "id": "BfWV3fGbvmEl",
        "outputId": "b65b8946-c15b-4fe0-dab3-cb9f79585d50"
      },
      "source": [
        "from sklearn.metrics import log_loss\n",
        "from sklearn.calibration import CalibratedClassifierCV\n",
        "\n",
        "lr = LogisticRegression(C = 100, random_state = 21) # default penalty is L2 \n",
        "lr.fit(X_train, y_train)\n",
        "sig_clf = CalibratedClassifierCV(lr, method = 'sigmoid')\n",
        "sig_clf.fit(X_train, y_train)\n",
        "y_pred_test = sig_clf.predict_proba(X_test)\n",
        "y_pred_train = sig_clf.predict_proba(X_train)\n",
        "\n",
        "train_loss = log_loss(y_train, y_pred_train, labels = lr.classes_, eps = 1e-15)\n",
        "print(train_loss)"
      ],
      "execution_count": null,
      "outputs": [
        {
          "output_type": "stream",
          "text": [
            "0.5393684917632731\n"
          ],
          "name": "stdout"
        }
      ]
    },
    {
      "cell_type": "code",
      "metadata": {
        "colab": {
          "base_uri": "https://localhost:8080/"
        },
        "id": "Gwij9M5Swlx8",
        "outputId": "31aa3822-d192-4c12-83cc-6b43c620fd79"
      },
      "source": [
        "lr.classes_"
      ],
      "execution_count": null,
      "outputs": [
        {
          "output_type": "execute_result",
          "data": {
            "text/plain": [
              "array([0, 1, 3, 4, 5])"
            ]
          },
          "metadata": {
            "tags": []
          },
          "execution_count": 51
        }
      ]
    },
    {
      "cell_type": "code",
      "metadata": {
        "colab": {
          "base_uri": "https://localhost:8080/"
        },
        "id": "MOo2NLWBvmEt",
        "outputId": "357c5c6d-a99f-480e-8ac4-ad962f18e8d1"
      },
      "source": [
        "y_pred_test"
      ],
      "execution_count": null,
      "outputs": [
        {
          "output_type": "execute_result",
          "data": {
            "text/plain": [
              "array([[1.41886787e-05, 2.01358904e-02, 1.16922445e-01, 8.32648228e-01,\n",
              "        3.02792480e-02],\n",
              "       [1.01000947e-05, 1.63047021e-02, 1.23265150e-01, 8.36130269e-01,\n",
              "        2.42897781e-02],\n",
              "       [4.34063750e-06, 1.65414907e-02, 1.35691277e-01, 8.21068742e-01,\n",
              "        2.66941500e-02],\n",
              "       ...,\n",
              "       [5.96618704e-05, 1.59970013e-02, 1.02811383e-01, 8.57644059e-01,\n",
              "        2.34878947e-02],\n",
              "       [6.67427238e-04, 1.50499519e-02, 8.82007406e-02, 8.76154420e-01,\n",
              "        1.99274601e-02],\n",
              "       [1.60035964e-04, 1.86296113e-02, 1.22003994e-01, 8.34233782e-01,\n",
              "        2.49725762e-02]])"
            ]
          },
          "metadata": {
            "tags": []
          },
          "execution_count": 52
        }
      ]
    },
    {
      "cell_type": "code",
      "metadata": {
        "colab": {
          "base_uri": "https://localhost:8080/",
          "height": 204
        },
        "id": "0imXGjzrvmEv",
        "outputId": "ec0db9ad-0a09-4220-ce4a-e1befc406f0a"
      },
      "source": [
        "lr_calib_df = pd.DataFrame(y_pred_test)\n",
        "lr_calib_df.head()"
      ],
      "execution_count": null,
      "outputs": [
        {
          "output_type": "execute_result",
          "data": {
            "text/html": [
              "<div>\n",
              "<style scoped>\n",
              "    .dataframe tbody tr th:only-of-type {\n",
              "        vertical-align: middle;\n",
              "    }\n",
              "\n",
              "    .dataframe tbody tr th {\n",
              "        vertical-align: top;\n",
              "    }\n",
              "\n",
              "    .dataframe thead th {\n",
              "        text-align: right;\n",
              "    }\n",
              "</style>\n",
              "<table border=\"1\" class=\"dataframe\">\n",
              "  <thead>\n",
              "    <tr style=\"text-align: right;\">\n",
              "      <th></th>\n",
              "      <th>0</th>\n",
              "      <th>1</th>\n",
              "      <th>2</th>\n",
              "      <th>3</th>\n",
              "      <th>4</th>\n",
              "    </tr>\n",
              "  </thead>\n",
              "  <tbody>\n",
              "    <tr>\n",
              "      <th>0</th>\n",
              "      <td>0.000014</td>\n",
              "      <td>0.020136</td>\n",
              "      <td>0.116922</td>\n",
              "      <td>0.832648</td>\n",
              "      <td>0.030279</td>\n",
              "    </tr>\n",
              "    <tr>\n",
              "      <th>1</th>\n",
              "      <td>0.000010</td>\n",
              "      <td>0.016305</td>\n",
              "      <td>0.123265</td>\n",
              "      <td>0.836130</td>\n",
              "      <td>0.024290</td>\n",
              "    </tr>\n",
              "    <tr>\n",
              "      <th>2</th>\n",
              "      <td>0.000004</td>\n",
              "      <td>0.016541</td>\n",
              "      <td>0.135691</td>\n",
              "      <td>0.821069</td>\n",
              "      <td>0.026694</td>\n",
              "    </tr>\n",
              "    <tr>\n",
              "      <th>3</th>\n",
              "      <td>0.000431</td>\n",
              "      <td>0.015234</td>\n",
              "      <td>0.094914</td>\n",
              "      <td>0.867748</td>\n",
              "      <td>0.021672</td>\n",
              "    </tr>\n",
              "    <tr>\n",
              "      <th>4</th>\n",
              "      <td>0.000031</td>\n",
              "      <td>0.013833</td>\n",
              "      <td>0.106243</td>\n",
              "      <td>0.856728</td>\n",
              "      <td>0.023167</td>\n",
              "    </tr>\n",
              "  </tbody>\n",
              "</table>\n",
              "</div>"
            ],
            "text/plain": [
              "          0         1         2         3         4\n",
              "0  0.000014  0.020136  0.116922  0.832648  0.030279\n",
              "1  0.000010  0.016305  0.123265  0.836130  0.024290\n",
              "2  0.000004  0.016541  0.135691  0.821069  0.026694\n",
              "3  0.000431  0.015234  0.094914  0.867748  0.021672\n",
              "4  0.000031  0.013833  0.106243  0.856728  0.023167"
            ]
          },
          "metadata": {
            "tags": []
          },
          "execution_count": 53
        }
      ]
    },
    {
      "cell_type": "code",
      "metadata": {
        "id": "3vy5Kzf2vmEw"
      },
      "source": [
        "lr_calib_df.to_csv(my_path + 'LR_C100_calib.csv', index = False)"
      ],
      "execution_count": null,
      "outputs": []
    },
    {
      "cell_type": "markdown",
      "metadata": {
        "id": "YI62s7RUnQr0"
      },
      "source": [
        "### Linear SVM"
      ]
    },
    {
      "cell_type": "code",
      "metadata": {
        "colab": {
          "base_uri": "https://localhost:8080/"
        },
        "id": "cu_qmNWJnQtK",
        "outputId": "94dabd89-1cfa-4ec8-ad62-735ced86ef4e"
      },
      "source": [
        "from sklearn.linear_model import SGDClassifier\n",
        "\n",
        "lr_svc = SGDClassifier(random_state = 21, alpha = 0.01) # default penalty is L2 # loss is hinge loss\n",
        "sig_clf = CalibratedClassifierCV(lr_svc, method = 'sigmoid')\n",
        "sig_clf.fit(X_train, y_train)\n",
        "\n",
        "y_pred_test = sig_clf.predict_proba(X_test)\n",
        "y_pred_train = sig_clf.predict_proba(X_train)\n",
        "\n",
        "train_loss = log_loss(y_train, y_pred_train, labels = lr.classes_, eps = 1e-15)\n",
        "print(train_loss)"
      ],
      "execution_count": null,
      "outputs": [
        {
          "output_type": "stream",
          "text": [
            "0.5039073956912167\n"
          ],
          "name": "stdout"
        }
      ]
    },
    {
      "cell_type": "code",
      "metadata": {
        "colab": {
          "base_uri": "https://localhost:8080/"
        },
        "id": "YOCkVkutnQtP",
        "outputId": "b3194d63-998d-4d08-f947-ea9af5dc2142"
      },
      "source": [
        "y_pred_test"
      ],
      "execution_count": null,
      "outputs": [
        {
          "output_type": "execute_result",
          "data": {
            "text/plain": [
              "array([[1.14466684e-03, 4.44673537e-02, 1.01800388e-01, 8.14010890e-01,\n",
              "        3.85767020e-02],\n",
              "       [9.85532186e-04, 1.48847431e-02, 6.04333518e-02, 9.09553250e-01,\n",
              "        1.41431228e-02],\n",
              "       [8.85686228e-04, 1.65944981e-02, 9.51307354e-02, 8.71789091e-01,\n",
              "        1.55999894e-02],\n",
              "       ...,\n",
              "       [1.00066966e-03, 1.45808828e-02, 7.00415532e-02, 8.95469630e-01,\n",
              "        1.89072641e-02],\n",
              "       [9.79975798e-04, 1.25849050e-02, 7.42173704e-02, 8.95673712e-01,\n",
              "        1.65440371e-02],\n",
              "       [8.12168593e-04, 1.86571241e-02, 1.38550869e-01, 8.01389302e-01,\n",
              "        4.05905359e-02]])"
            ]
          },
          "metadata": {
            "tags": []
          },
          "execution_count": 69
        }
      ]
    },
    {
      "cell_type": "code",
      "metadata": {
        "colab": {
          "base_uri": "https://localhost:8080/",
          "height": 204
        },
        "id": "WU3LtORinQtS",
        "outputId": "57aea6d3-0b81-4ca8-b5f8-214c0e1a9acf"
      },
      "source": [
        "lrsvm_tuned_df = pd.DataFrame(y_pred_test)\n",
        "lrsvm_tuned_df.head()"
      ],
      "execution_count": null,
      "outputs": [
        {
          "output_type": "execute_result",
          "data": {
            "text/html": [
              "<div>\n",
              "<style scoped>\n",
              "    .dataframe tbody tr th:only-of-type {\n",
              "        vertical-align: middle;\n",
              "    }\n",
              "\n",
              "    .dataframe tbody tr th {\n",
              "        vertical-align: top;\n",
              "    }\n",
              "\n",
              "    .dataframe thead th {\n",
              "        text-align: right;\n",
              "    }\n",
              "</style>\n",
              "<table border=\"1\" class=\"dataframe\">\n",
              "  <thead>\n",
              "    <tr style=\"text-align: right;\">\n",
              "      <th></th>\n",
              "      <th>0</th>\n",
              "      <th>1</th>\n",
              "      <th>2</th>\n",
              "      <th>3</th>\n",
              "      <th>4</th>\n",
              "    </tr>\n",
              "  </thead>\n",
              "  <tbody>\n",
              "    <tr>\n",
              "      <th>0</th>\n",
              "      <td>0.001145</td>\n",
              "      <td>0.044467</td>\n",
              "      <td>0.101800</td>\n",
              "      <td>0.814011</td>\n",
              "      <td>0.038577</td>\n",
              "    </tr>\n",
              "    <tr>\n",
              "      <th>1</th>\n",
              "      <td>0.000986</td>\n",
              "      <td>0.014885</td>\n",
              "      <td>0.060433</td>\n",
              "      <td>0.909553</td>\n",
              "      <td>0.014143</td>\n",
              "    </tr>\n",
              "    <tr>\n",
              "      <th>2</th>\n",
              "      <td>0.000886</td>\n",
              "      <td>0.016594</td>\n",
              "      <td>0.095131</td>\n",
              "      <td>0.871789</td>\n",
              "      <td>0.015600</td>\n",
              "    </tr>\n",
              "    <tr>\n",
              "      <th>3</th>\n",
              "      <td>0.000962</td>\n",
              "      <td>0.015819</td>\n",
              "      <td>0.058159</td>\n",
              "      <td>0.906368</td>\n",
              "      <td>0.018692</td>\n",
              "    </tr>\n",
              "    <tr>\n",
              "      <th>4</th>\n",
              "      <td>0.000898</td>\n",
              "      <td>0.014444</td>\n",
              "      <td>0.059517</td>\n",
              "      <td>0.904727</td>\n",
              "      <td>0.020414</td>\n",
              "    </tr>\n",
              "  </tbody>\n",
              "</table>\n",
              "</div>"
            ],
            "text/plain": [
              "          0         1         2         3         4\n",
              "0  0.001145  0.044467  0.101800  0.814011  0.038577\n",
              "1  0.000986  0.014885  0.060433  0.909553  0.014143\n",
              "2  0.000886  0.016594  0.095131  0.871789  0.015600\n",
              "3  0.000962  0.015819  0.058159  0.906368  0.018692\n",
              "4  0.000898  0.014444  0.059517  0.904727  0.020414"
            ]
          },
          "metadata": {
            "tags": []
          },
          "execution_count": 70
        }
      ]
    },
    {
      "cell_type": "code",
      "metadata": {
        "id": "5YNhzVkYnQtb"
      },
      "source": [
        "lrsvm_tuned_df.to_csv(my_path + 'SVM_alpha001.csv', index = False)"
      ],
      "execution_count": null,
      "outputs": []
    },
    {
      "cell_type": "markdown",
      "metadata": {
        "id": "pHS2ASDk0Qom"
      },
      "source": [
        "## Non Linear models "
      ]
    },
    {
      "cell_type": "markdown",
      "metadata": {
        "id": "a_QGbWU00ZtO"
      },
      "source": [
        "### Random Forest (baseline)"
      ]
    },
    {
      "cell_type": "code",
      "metadata": {
        "colab": {
          "base_uri": "https://localhost:8080/",
          "height": 111
        },
        "id": "Seh0HpUa0rPq",
        "outputId": "380ab06f-e8a2-41dc-cfd5-ac9bb93f9bb0"
      },
      "source": [
        "X_train = train_data[[i for i in train_data.columns if i != 'popularity']]\n",
        "X_train.head(2)"
      ],
      "execution_count": null,
      "outputs": [
        {
          "output_type": "execute_result",
          "data": {
            "text/html": [
              "<div>\n",
              "<style scoped>\n",
              "    .dataframe tbody tr th:only-of-type {\n",
              "        vertical-align: middle;\n",
              "    }\n",
              "\n",
              "    .dataframe tbody tr th {\n",
              "        vertical-align: top;\n",
              "    }\n",
              "\n",
              "    .dataframe thead th {\n",
              "        text-align: right;\n",
              "    }\n",
              "</style>\n",
              "<table border=\"1\" class=\"dataframe\">\n",
              "  <thead>\n",
              "    <tr style=\"text-align: right;\">\n",
              "      <th></th>\n",
              "      <th>Store_Ratio</th>\n",
              "      <th>Basket_Ratio</th>\n",
              "      <th>Category_1</th>\n",
              "      <th>Store_Score</th>\n",
              "      <th>Category_2</th>\n",
              "      <th>Store_Presence</th>\n",
              "      <th>Score_1</th>\n",
              "      <th>Score_2</th>\n",
              "      <th>Score_3</th>\n",
              "      <th>Score_4</th>\n",
              "      <th>time</th>\n",
              "    </tr>\n",
              "  </thead>\n",
              "  <tbody>\n",
              "    <tr>\n",
              "      <th>0</th>\n",
              "      <td>0.407</td>\n",
              "      <td>0.0038</td>\n",
              "      <td>2</td>\n",
              "      <td>-35.865</td>\n",
              "      <td>1</td>\n",
              "      <td>0.992</td>\n",
              "      <td>0.944</td>\n",
              "      <td>0.0988</td>\n",
              "      <td>0.1100</td>\n",
              "      <td>113.911</td>\n",
              "      <td>189125</td>\n",
              "    </tr>\n",
              "    <tr>\n",
              "      <th>1</th>\n",
              "      <td>0.234</td>\n",
              "      <td>0.1050</td>\n",
              "      <td>0</td>\n",
              "      <td>-19.884</td>\n",
              "      <td>1</td>\n",
              "      <td>0.944</td>\n",
              "      <td>0.900</td>\n",
              "      <td>0.1290</td>\n",
              "      <td>0.0382</td>\n",
              "      <td>76.332</td>\n",
              "      <td>186513</td>\n",
              "    </tr>\n",
              "  </tbody>\n",
              "</table>\n",
              "</div>"
            ],
            "text/plain": [
              "   Store_Ratio  Basket_Ratio  Category_1  ...  Score_3  Score_4    time\n",
              "0        0.407        0.0038           2  ...   0.1100  113.911  189125\n",
              "1        0.234        0.1050           0  ...   0.0382   76.332  186513\n",
              "\n",
              "[2 rows x 11 columns]"
            ]
          },
          "metadata": {
            "tags": []
          },
          "execution_count": 20
        }
      ]
    },
    {
      "cell_type": "code",
      "metadata": {
        "colab": {
          "base_uri": "https://localhost:8080/",
          "height": 111
        },
        "id": "wRcZK9zS1unp",
        "outputId": "d0447e55-8d06-4656-9dee-c280201d7fb4"
      },
      "source": [
        "X_test = test_data[[i for i in test_data.columns]]\n",
        "X_test.head(2)"
      ],
      "execution_count": null,
      "outputs": [
        {
          "output_type": "execute_result",
          "data": {
            "text/html": [
              "<div>\n",
              "<style scoped>\n",
              "    .dataframe tbody tr th:only-of-type {\n",
              "        vertical-align: middle;\n",
              "    }\n",
              "\n",
              "    .dataframe tbody tr th {\n",
              "        vertical-align: top;\n",
              "    }\n",
              "\n",
              "    .dataframe thead th {\n",
              "        text-align: right;\n",
              "    }\n",
              "</style>\n",
              "<table border=\"1\" class=\"dataframe\">\n",
              "  <thead>\n",
              "    <tr style=\"text-align: right;\">\n",
              "      <th></th>\n",
              "      <th>Store_Ratio</th>\n",
              "      <th>Basket_Ratio</th>\n",
              "      <th>Category_1</th>\n",
              "      <th>Store_Score</th>\n",
              "      <th>Category_2</th>\n",
              "      <th>Store_Presence</th>\n",
              "      <th>Score_1</th>\n",
              "      <th>Score_2</th>\n",
              "      <th>Score_3</th>\n",
              "      <th>Score_4</th>\n",
              "      <th>time</th>\n",
              "    </tr>\n",
              "  </thead>\n",
              "  <tbody>\n",
              "    <tr>\n",
              "      <th>0</th>\n",
              "      <td>0.164</td>\n",
              "      <td>0.994</td>\n",
              "      <td>1</td>\n",
              "      <td>-23.718</td>\n",
              "      <td>0</td>\n",
              "      <td>0.12400</td>\n",
              "      <td>0.991</td>\n",
              "      <td>0.789</td>\n",
              "      <td>0.00001</td>\n",
              "      <td>127.602</td>\n",
              "      <td>236436</td>\n",
              "    </tr>\n",
              "    <tr>\n",
              "      <th>1</th>\n",
              "      <td>0.586</td>\n",
              "      <td>0.636</td>\n",
              "      <td>4</td>\n",
              "      <td>-7.710</td>\n",
              "      <td>1</td>\n",
              "      <td>0.00208</td>\n",
              "      <td>0.322</td>\n",
              "      <td>0.107</td>\n",
              "      <td>0.35500</td>\n",
              "      <td>136.337</td>\n",
              "      <td>253631</td>\n",
              "    </tr>\n",
              "  </tbody>\n",
              "</table>\n",
              "</div>"
            ],
            "text/plain": [
              "   Store_Ratio  Basket_Ratio  Category_1  ...  Score_3  Score_4    time\n",
              "0        0.164         0.994           1  ...  0.00001  127.602  236436\n",
              "1        0.586         0.636           4  ...  0.35500  136.337  253631\n",
              "\n",
              "[2 rows x 11 columns]"
            ]
          },
          "metadata": {
            "tags": []
          },
          "execution_count": 21
        }
      ]
    },
    {
      "cell_type": "code",
      "metadata": {
        "colab": {
          "base_uri": "https://localhost:8080/"
        },
        "id": "mW1QerWq0P4N",
        "outputId": "40a702be-552f-48b6-c0fb-0d4cd133cb75"
      },
      "source": [
        "from sklearn.ensemble import RandomForestClassifier\n",
        "\n",
        "rf = RandomForestClassifier(random_state = 21)\n",
        "rf.fit(X_train, y_train)\n",
        "y_pred_test = rf.predict_proba(X_test)\n",
        "y_pred_train = rf.predict_proba(X_train)\n",
        "\n",
        "train_loss = log_loss(y_train, y_pred_train, labels = rf.classes_)\n",
        "print(train_loss)"
      ],
      "execution_count": null,
      "outputs": [
        {
          "output_type": "stream",
          "text": [
            "0.10197212601869865\n"
          ],
          "name": "stdout"
        }
      ]
    },
    {
      "cell_type": "code",
      "metadata": {
        "colab": {
          "base_uri": "https://localhost:8080/"
        },
        "id": "_S6b19zK2G3q",
        "outputId": "5451fcfd-a4e5-42ad-e017-64c2b671da94"
      },
      "source": [
        "y_pred_test"
      ],
      "execution_count": null,
      "outputs": [
        {
          "output_type": "execute_result",
          "data": {
            "text/plain": [
              "array([[0.  , 0.01, 0.79, 0.17, 0.03],\n",
              "       [0.  , 0.01, 0.01, 0.98, 0.  ],\n",
              "       [0.  , 0.  , 0.06, 0.94, 0.  ],\n",
              "       ...,\n",
              "       [0.  , 0.  , 0.  , 1.  , 0.  ],\n",
              "       [0.  , 0.  , 0.  , 1.  , 0.  ],\n",
              "       [0.  , 0.07, 0.23, 0.65, 0.05]])"
            ]
          },
          "metadata": {
            "tags": []
          },
          "execution_count": 78
        }
      ]
    },
    {
      "cell_type": "code",
      "metadata": {
        "colab": {
          "base_uri": "https://localhost:8080/",
          "height": 204
        },
        "id": "R_GWbnlN2G3u",
        "outputId": "3765dddd-2c23-47d8-f7dd-9c5a8a40735c"
      },
      "source": [
        "rf_baseline_df = pd.DataFrame(y_pred_test)\n",
        "rf_baseline_df.head()"
      ],
      "execution_count": null,
      "outputs": [
        {
          "output_type": "execute_result",
          "data": {
            "text/html": [
              "<div>\n",
              "<style scoped>\n",
              "    .dataframe tbody tr th:only-of-type {\n",
              "        vertical-align: middle;\n",
              "    }\n",
              "\n",
              "    .dataframe tbody tr th {\n",
              "        vertical-align: top;\n",
              "    }\n",
              "\n",
              "    .dataframe thead th {\n",
              "        text-align: right;\n",
              "    }\n",
              "</style>\n",
              "<table border=\"1\" class=\"dataframe\">\n",
              "  <thead>\n",
              "    <tr style=\"text-align: right;\">\n",
              "      <th></th>\n",
              "      <th>0</th>\n",
              "      <th>1</th>\n",
              "      <th>2</th>\n",
              "      <th>3</th>\n",
              "      <th>4</th>\n",
              "    </tr>\n",
              "  </thead>\n",
              "  <tbody>\n",
              "    <tr>\n",
              "      <th>0</th>\n",
              "      <td>0.0</td>\n",
              "      <td>0.01</td>\n",
              "      <td>0.79</td>\n",
              "      <td>0.17</td>\n",
              "      <td>0.03</td>\n",
              "    </tr>\n",
              "    <tr>\n",
              "      <th>1</th>\n",
              "      <td>0.0</td>\n",
              "      <td>0.01</td>\n",
              "      <td>0.01</td>\n",
              "      <td>0.98</td>\n",
              "      <td>0.00</td>\n",
              "    </tr>\n",
              "    <tr>\n",
              "      <th>2</th>\n",
              "      <td>0.0</td>\n",
              "      <td>0.00</td>\n",
              "      <td>0.06</td>\n",
              "      <td>0.94</td>\n",
              "      <td>0.00</td>\n",
              "    </tr>\n",
              "    <tr>\n",
              "      <th>3</th>\n",
              "      <td>0.0</td>\n",
              "      <td>0.01</td>\n",
              "      <td>0.04</td>\n",
              "      <td>0.94</td>\n",
              "      <td>0.01</td>\n",
              "    </tr>\n",
              "    <tr>\n",
              "      <th>4</th>\n",
              "      <td>0.0</td>\n",
              "      <td>0.00</td>\n",
              "      <td>0.00</td>\n",
              "      <td>1.00</td>\n",
              "      <td>0.00</td>\n",
              "    </tr>\n",
              "  </tbody>\n",
              "</table>\n",
              "</div>"
            ],
            "text/plain": [
              "     0     1     2     3     4\n",
              "0  0.0  0.01  0.79  0.17  0.03\n",
              "1  0.0  0.01  0.01  0.98  0.00\n",
              "2  0.0  0.00  0.06  0.94  0.00\n",
              "3  0.0  0.01  0.04  0.94  0.01\n",
              "4  0.0  0.00  0.00  1.00  0.00"
            ]
          },
          "metadata": {
            "tags": []
          },
          "execution_count": 79
        }
      ]
    },
    {
      "cell_type": "code",
      "metadata": {
        "id": "6hm07Yfm2G3x"
      },
      "source": [
        "rf_baseline_df.to_csv(my_path + 'rf_baseline.csv', index = False)"
      ],
      "execution_count": null,
      "outputs": []
    },
    {
      "cell_type": "code",
      "metadata": {
        "colab": {
          "base_uri": "https://localhost:8080/",
          "height": 204
        },
        "id": "KVR4p1p2rZv-",
        "outputId": "07850bd4-b8cd-4bce-9fe4-230544710ca4"
      },
      "source": [
        "sample_data  = pd.read_csv(my_path + 'sample_submission.csv')\n",
        "sample_data.head()"
      ],
      "execution_count": null,
      "outputs": [
        {
          "output_type": "execute_result",
          "data": {
            "text/html": [
              "<div>\n",
              "<style scoped>\n",
              "    .dataframe tbody tr th:only-of-type {\n",
              "        vertical-align: middle;\n",
              "    }\n",
              "\n",
              "    .dataframe tbody tr th {\n",
              "        vertical-align: top;\n",
              "    }\n",
              "\n",
              "    .dataframe thead th {\n",
              "        text-align: right;\n",
              "    }\n",
              "</style>\n",
              "<table border=\"1\" class=\"dataframe\">\n",
              "  <thead>\n",
              "    <tr style=\"text-align: right;\">\n",
              "      <th></th>\n",
              "      <th>0</th>\n",
              "      <th>1</th>\n",
              "      <th>2</th>\n",
              "      <th>3</th>\n",
              "      <th>4</th>\n",
              "    </tr>\n",
              "  </thead>\n",
              "  <tbody>\n",
              "    <tr>\n",
              "      <th>0</th>\n",
              "      <td>1</td>\n",
              "      <td>0</td>\n",
              "      <td>0</td>\n",
              "      <td>0</td>\n",
              "      <td>0</td>\n",
              "    </tr>\n",
              "    <tr>\n",
              "      <th>1</th>\n",
              "      <td>1</td>\n",
              "      <td>0</td>\n",
              "      <td>0</td>\n",
              "      <td>0</td>\n",
              "      <td>0</td>\n",
              "    </tr>\n",
              "    <tr>\n",
              "      <th>2</th>\n",
              "      <td>1</td>\n",
              "      <td>0</td>\n",
              "      <td>0</td>\n",
              "      <td>0</td>\n",
              "      <td>0</td>\n",
              "    </tr>\n",
              "    <tr>\n",
              "      <th>3</th>\n",
              "      <td>1</td>\n",
              "      <td>0</td>\n",
              "      <td>0</td>\n",
              "      <td>0</td>\n",
              "      <td>0</td>\n",
              "    </tr>\n",
              "    <tr>\n",
              "      <th>4</th>\n",
              "      <td>1</td>\n",
              "      <td>0</td>\n",
              "      <td>0</td>\n",
              "      <td>0</td>\n",
              "      <td>0</td>\n",
              "    </tr>\n",
              "  </tbody>\n",
              "</table>\n",
              "</div>"
            ],
            "text/plain": [
              "   0  1  2  3  4\n",
              "0  1  0  0  0  0\n",
              "1  1  0  0  0  0\n",
              "2  1  0  0  0  0\n",
              "3  1  0  0  0  0\n",
              "4  1  0  0  0  0"
            ]
          },
          "metadata": {
            "tags": []
          },
          "execution_count": 116
        }
      ]
    },
    {
      "cell_type": "markdown",
      "metadata": {
        "id": "WNZvONldZh_N"
      },
      "source": [
        "### XGBoost Classifier (baseline)"
      ]
    },
    {
      "cell_type": "code",
      "metadata": {
        "colab": {
          "base_uri": "https://localhost:8080/"
        },
        "id": "GwoKk7EjZgyF",
        "outputId": "e9303e6b-eb0a-4cd0-febc-4779c2add3de"
      },
      "source": [
        "# baseline xgboost classifier\n",
        "from xgboost import XGBClassifier\n",
        "from sklearn.metrics import log_loss\n",
        "\n",
        "xgb = XGBClassifier(random_state = 21)\n",
        "xgb.fit(X_train, y_train)\n",
        "\n",
        "y_pred_test = xgb.predict_proba(X_test)\n",
        "y_pred_train = xgb.predict_proba(X_train)\n",
        "\n",
        "train_loss = log_loss(y_train, y_pred_train, labels = xgb.classes_)\n",
        "print(train_loss)"
      ],
      "execution_count": null,
      "outputs": [
        {
          "output_type": "stream",
          "text": [
            "0.4262674248466889\n"
          ],
          "name": "stdout"
        }
      ]
    },
    {
      "cell_type": "code",
      "metadata": {
        "colab": {
          "base_uri": "https://localhost:8080/"
        },
        "id": "rBRnqYEsZm1B",
        "outputId": "dfe972f5-2f88-48b6-e7c8-e40c9883e9b6"
      },
      "source": [
        "y_pred_test"
      ],
      "execution_count": null,
      "outputs": [
        {
          "output_type": "execute_result",
          "data": {
            "text/plain": [
              "array([[1.14233827e-03, 7.86580890e-02, 3.23301286e-01, 4.91993487e-01,\n",
              "        1.04904816e-01],\n",
              "       [4.20905970e-04, 5.73051814e-03, 3.44541483e-02, 9.52589810e-01,\n",
              "        6.80454820e-03],\n",
              "       [5.72068209e-04, 1.21123586e-02, 7.81889185e-02, 8.89522314e-01,\n",
              "        1.96043402e-02],\n",
              "       ...,\n",
              "       [3.58884397e-04, 2.12665042e-03, 2.54502632e-02, 9.68948305e-01,\n",
              "        3.11586168e-03],\n",
              "       [3.10995209e-04, 4.26525902e-03, 1.71390381e-02, 9.73667383e-01,\n",
              "        4.61732829e-03],\n",
              "       [9.26051231e-04, 3.86219509e-02, 3.35304528e-01, 5.71541190e-01,\n",
              "        5.36062382e-02]], dtype=float32)"
            ]
          },
          "metadata": {
            "tags": []
          },
          "execution_count": 25
        }
      ]
    },
    {
      "cell_type": "code",
      "metadata": {
        "colab": {
          "base_uri": "https://localhost:8080/",
          "height": 204
        },
        "id": "uFlw3vcQZm1F",
        "outputId": "a811df8c-30d4-400b-d010-30668aed4d9f"
      },
      "source": [
        "xgb_baseline_df = pd.DataFrame(y_pred_test)\n",
        "xgb_baseline_df.head()"
      ],
      "execution_count": null,
      "outputs": [
        {
          "output_type": "execute_result",
          "data": {
            "text/html": [
              "<div>\n",
              "<style scoped>\n",
              "    .dataframe tbody tr th:only-of-type {\n",
              "        vertical-align: middle;\n",
              "    }\n",
              "\n",
              "    .dataframe tbody tr th {\n",
              "        vertical-align: top;\n",
              "    }\n",
              "\n",
              "    .dataframe thead th {\n",
              "        text-align: right;\n",
              "    }\n",
              "</style>\n",
              "<table border=\"1\" class=\"dataframe\">\n",
              "  <thead>\n",
              "    <tr style=\"text-align: right;\">\n",
              "      <th></th>\n",
              "      <th>0</th>\n",
              "      <th>1</th>\n",
              "      <th>2</th>\n",
              "      <th>3</th>\n",
              "      <th>4</th>\n",
              "    </tr>\n",
              "  </thead>\n",
              "  <tbody>\n",
              "    <tr>\n",
              "      <th>0</th>\n",
              "      <td>0.001142</td>\n",
              "      <td>0.078658</td>\n",
              "      <td>0.323301</td>\n",
              "      <td>0.491993</td>\n",
              "      <td>0.104905</td>\n",
              "    </tr>\n",
              "    <tr>\n",
              "      <th>1</th>\n",
              "      <td>0.000421</td>\n",
              "      <td>0.005731</td>\n",
              "      <td>0.034454</td>\n",
              "      <td>0.952590</td>\n",
              "      <td>0.006805</td>\n",
              "    </tr>\n",
              "    <tr>\n",
              "      <th>2</th>\n",
              "      <td>0.000572</td>\n",
              "      <td>0.012112</td>\n",
              "      <td>0.078189</td>\n",
              "      <td>0.889522</td>\n",
              "      <td>0.019604</td>\n",
              "    </tr>\n",
              "    <tr>\n",
              "      <th>3</th>\n",
              "      <td>0.000471</td>\n",
              "      <td>0.008924</td>\n",
              "      <td>0.040753</td>\n",
              "      <td>0.937626</td>\n",
              "      <td>0.012226</td>\n",
              "    </tr>\n",
              "    <tr>\n",
              "      <th>4</th>\n",
              "      <td>0.000195</td>\n",
              "      <td>0.001196</td>\n",
              "      <td>0.007472</td>\n",
              "      <td>0.987239</td>\n",
              "      <td>0.003898</td>\n",
              "    </tr>\n",
              "  </tbody>\n",
              "</table>\n",
              "</div>"
            ],
            "text/plain": [
              "          0         1         2         3         4\n",
              "0  0.001142  0.078658  0.323301  0.491993  0.104905\n",
              "1  0.000421  0.005731  0.034454  0.952590  0.006805\n",
              "2  0.000572  0.012112  0.078189  0.889522  0.019604\n",
              "3  0.000471  0.008924  0.040753  0.937626  0.012226\n",
              "4  0.000195  0.001196  0.007472  0.987239  0.003898"
            ]
          },
          "metadata": {
            "tags": []
          },
          "execution_count": 26
        }
      ]
    },
    {
      "cell_type": "code",
      "metadata": {
        "id": "LXlS_6bsZm1H"
      },
      "source": [
        "xgb_baseline_df.to_csv(my_path + 'xgb_baseline.csv', index = False)"
      ],
      "execution_count": null,
      "outputs": []
    },
    {
      "cell_type": "code",
      "metadata": {
        "colab": {
          "base_uri": "https://localhost:8080/",
          "height": 388
        },
        "id": "3fkz4-AJiQra",
        "outputId": "9ed4d8cd-d98c-4feb-cc09-eb273a4c79d1"
      },
      "source": [
        "feat_df = pd.DataFrame({'Features': X_train.columns, 'Relative importance': xgb.feature_importances_})\n",
        "imp_feat_df = feat_df.sort_values('Relative importance', ascending = False)\n",
        "plt.figure(figsize = (5, 6))\n",
        "sns.barplot(x = 'Relative importance', y = 'Features', data = imp_feat_df)\n",
        "plt.grid()\n",
        "plt.show()"
      ],
      "execution_count": null,
      "outputs": [
        {
          "output_type": "display_data",
          "data": {
            "image/png": "[encoded data removed]",
            "text/plain": [
              "<Figure size 360x432 with 1 Axes>"
            ]
          },
          "metadata": {
            "tags": []
          }
        }
      ]
    },
    {
      "cell_type": "markdown",
      "metadata": {
        "id": "4O3MUYMsiAJa"
      },
      "source": [
        "### XGB Classifier \n",
        "(with hyperparameter tuning) "
      ]
    },
    {
      "cell_type": "code",
      "metadata": {
        "colab": {
          "base_uri": "https://localhost:8080/"
        },
        "id": "bAMRA1CEh71i",
        "outputId": "1981e709-8a54-4b73-9d45-53b4f533b37d"
      },
      "source": [
        "# baseline xgboost classifier\n",
        "from xgboost import XGBClassifier\n",
        "from sklearn.metrics import log_loss\n",
        "\n",
        "xgb = XGBClassifier(n_estimators = 450, max_depth = 5, colsample_bytree = 0.8, \n",
        "                    subsample = 0.6, random_state = 21)\n",
        "xgb.fit(X_train, y_train)\n",
        "\n",
        "y_pred_test = xgb.predict_proba(X_test)\n",
        "y_pred_train = xgb.predict_proba(X_train)\n",
        "\n",
        "train_loss = log_loss(y_train, y_pred_train, labels = xgb.classes_)\n",
        "print(train_loss)"
      ],
      "execution_count": null,
      "outputs": [
        {
          "output_type": "stream",
          "text": [
            "0.15614227967789163\n"
          ],
          "name": "stdout"
        }
      ]
    },
    {
      "cell_type": "code",
      "metadata": {
        "colab": {
          "base_uri": "https://localhost:8080/"
        },
        "id": "bKUvtQnAh71p",
        "outputId": "820e1eba-6334-43d2-bdf2-289f6468d26f"
      },
      "source": [
        "y_pred_test"
      ],
      "execution_count": null,
      "outputs": [
        {
          "output_type": "execute_result",
          "data": {
            "text/plain": [
              "array([[1.5379074e-04, 1.0314447e-02, 7.9544222e-01, 1.6657025e-01,\n",
              "        2.7519336e-02],\n",
              "       [1.8478439e-05, 4.5359047e-04, 1.4495723e-02, 9.8425126e-01,\n",
              "        7.8099803e-04],\n",
              "       [3.1922904e-05, 1.6217332e-03, 2.9189277e-02, 9.6097124e-01,\n",
              "        8.1858514e-03],\n",
              "       ...,\n",
              "       [8.4173926e-06, 8.4626321e-05, 3.6163938e-03, 9.9606508e-01,\n",
              "        2.2551767e-04],\n",
              "       [2.7049278e-05, 9.6558954e-04, 1.1875007e-02, 9.8563194e-01,\n",
              "        1.5003750e-03],\n",
              "       [3.8529233e-05, 3.3183440e-03, 3.5320097e-01, 6.3797539e-01,\n",
              "        5.4667266e-03]], dtype=float32)"
            ]
          },
          "metadata": {
            "tags": []
          },
          "execution_count": 33
        }
      ]
    },
    {
      "cell_type": "code",
      "metadata": {
        "colab": {
          "base_uri": "https://localhost:8080/",
          "height": 204
        },
        "id": "lZrSB-w4h71s",
        "outputId": "ccf583f2-aff1-4f01-f65e-3aafaf940b39"
      },
      "source": [
        "xgb_tuned_df = pd.DataFrame(y_pred_test)\n",
        "xgb_tuned_df.head()"
      ],
      "execution_count": null,
      "outputs": [
        {
          "output_type": "execute_result",
          "data": {
            "text/html": [
              "<div>\n",
              "<style scoped>\n",
              "    .dataframe tbody tr th:only-of-type {\n",
              "        vertical-align: middle;\n",
              "    }\n",
              "\n",
              "    .dataframe tbody tr th {\n",
              "        vertical-align: top;\n",
              "    }\n",
              "\n",
              "    .dataframe thead th {\n",
              "        text-align: right;\n",
              "    }\n",
              "</style>\n",
              "<table border=\"1\" class=\"dataframe\">\n",
              "  <thead>\n",
              "    <tr style=\"text-align: right;\">\n",
              "      <th></th>\n",
              "      <th>0</th>\n",
              "      <th>1</th>\n",
              "      <th>2</th>\n",
              "      <th>3</th>\n",
              "      <th>4</th>\n",
              "    </tr>\n",
              "  </thead>\n",
              "  <tbody>\n",
              "    <tr>\n",
              "      <th>0</th>\n",
              "      <td>0.000154</td>\n",
              "      <td>0.010314</td>\n",
              "      <td>0.795442</td>\n",
              "      <td>0.166570</td>\n",
              "      <td>0.027519</td>\n",
              "    </tr>\n",
              "    <tr>\n",
              "      <th>1</th>\n",
              "      <td>0.000018</td>\n",
              "      <td>0.000454</td>\n",
              "      <td>0.014496</td>\n",
              "      <td>0.984251</td>\n",
              "      <td>0.000781</td>\n",
              "    </tr>\n",
              "    <tr>\n",
              "      <th>2</th>\n",
              "      <td>0.000032</td>\n",
              "      <td>0.001622</td>\n",
              "      <td>0.029189</td>\n",
              "      <td>0.960971</td>\n",
              "      <td>0.008186</td>\n",
              "    </tr>\n",
              "    <tr>\n",
              "      <th>3</th>\n",
              "      <td>0.000017</td>\n",
              "      <td>0.000724</td>\n",
              "      <td>0.012495</td>\n",
              "      <td>0.985295</td>\n",
              "      <td>0.001469</td>\n",
              "    </tr>\n",
              "    <tr>\n",
              "      <th>4</th>\n",
              "      <td>0.000002</td>\n",
              "      <td>0.000020</td>\n",
              "      <td>0.000461</td>\n",
              "      <td>0.999326</td>\n",
              "      <td>0.000191</td>\n",
              "    </tr>\n",
              "  </tbody>\n",
              "</table>\n",
              "</div>"
            ],
            "text/plain": [
              "          0         1         2         3         4\n",
              "0  0.000154  0.010314  0.795442  0.166570  0.027519\n",
              "1  0.000018  0.000454  0.014496  0.984251  0.000781\n",
              "2  0.000032  0.001622  0.029189  0.960971  0.008186\n",
              "3  0.000017  0.000724  0.012495  0.985295  0.001469\n",
              "4  0.000002  0.000020  0.000461  0.999326  0.000191"
            ]
          },
          "metadata": {
            "tags": []
          },
          "execution_count": 35
        }
      ]
    },
    {
      "cell_type": "code",
      "metadata": {
        "id": "buhlHFkLh71v"
      },
      "source": [
        "xgb_tuned_df.to_csv(my_path + 'xgb_tuned_df.csv', index = False)"
      ],
      "execution_count": null,
      "outputs": []
    },
    {
      "cell_type": "markdown",
      "metadata": {
        "id": "V7gRNzieKGL6"
      },
      "source": [
        "----"
      ]
    },
    {
      "cell_type": "markdown",
      "metadata": {
        "id": "kJHQWxGoKKq0"
      },
      "source": [
        "## Feature Engineering"
      ]
    },
    {
      "cell_type": "code",
      "metadata": {
        "colab": {
          "base_uri": "https://localhost:8080/"
        },
        "id": "ljfkb3aHi1Lk",
        "outputId": "cc90865b-755e-4f33-d8a4-a77e2cf65547"
      },
      "source": [
        "X_train = train_data.copy()\n",
        "X_test = test_data.copy()\n",
        "\n",
        "y_train = train_data['popularity']\n",
        "\n",
        "print(X_train.shape, y_train.shape)\n",
        "print(X_test.shape)"
      ],
      "execution_count": null,
      "outputs": [
        {
          "output_type": "stream",
          "text": [
            "(15285, 12) (15285,)\n",
            "(12140, 11)\n"
          ],
          "name": "stdout"
        }
      ]
    },
    {
      "cell_type": "code",
      "metadata": {
        "colab": {
          "base_uri": "https://localhost:8080/"
        },
        "id": "d4WrMeooLcMb",
        "outputId": "90334aca-612a-4813-eff6-cc1ee23a4724"
      },
      "source": [
        "X_train = train_data.copy()\n",
        "y_train = train_data.popularity\n",
        "\n",
        "print(X_train.shape, y_train.shape)"
      ],
      "execution_count": null,
      "outputs": [
        {
          "output_type": "stream",
          "text": [
            "(15285, 12) (15285,)\n"
          ],
          "name": "stdout"
        }
      ]
    },
    {
      "cell_type": "code",
      "metadata": {
        "colab": {
          "base_uri": "https://localhost:8080/"
        },
        "id": "dzzrexr7KHPe",
        "outputId": "e08509ee-2682-4241-862c-75f14a091524"
      },
      "source": [
        "from sklearn.model_selection import train_test_split\n",
        "\n",
        "X_train, X_test, y_train, y_test = train_test_split(X_train, y_train, test_size = 0.30, random_state = 21)\n",
        "print(X_train.shape, y_train.shape)\n",
        "print(X_test.shape, y_test.shape)"
      ],
      "execution_count": null,
      "outputs": [
        {
          "output_type": "stream",
          "text": [
            "(10699, 12) (10699,)\n",
            "(4586, 12) (4586,)\n"
          ],
          "name": "stdout"
        }
      ]
    },
    {
      "cell_type": "markdown",
      "metadata": {
        "id": "r8UR2ktlMYvG"
      },
      "source": [
        "#### 1. Store Score - make it a positive value without changing the significance"
      ]
    },
    {
      "cell_type": "code",
      "metadata": {
        "id": "QHONMJzL7hbd"
      },
      "source": [
        "X_train['Store_Score'] = X_train['Store_Score'].apply(lambda x: -1/(x+1e-5))\n",
        "X_test['Store_Score'] =  X_test['Store_Score'].apply(lambda x: -1/(x+1e-5))"
      ],
      "execution_count": null,
      "outputs": []
    },
    {
      "cell_type": "markdown",
      "metadata": {
        "id": "lVJaOEQgOP5y"
      },
      "source": [
        "#### 2. Score_4 - Scale using min-max scaler"
      ]
    },
    {
      "cell_type": "code",
      "metadata": {
        "id": "mnaYN9pFMRBC"
      },
      "source": [
        "from sklearn.preprocessing import MinMaxScaler\n",
        "\n",
        "scaler = MinMaxScaler()\n",
        "scaler.fit(X_train['Score_4'].values.reshape(-1, 1))\n",
        "X_train['Score_4'] = scaler.transform(X_train['Score_4'].values.reshape(-1, 1))\n",
        "X_test['Score_4'] = scaler.transform(X_test['Score_4'].values.reshape(-1, 1))"
      ],
      "execution_count": null,
      "outputs": []
    },
    {
      "cell_type": "markdown",
      "metadata": {
        "id": "REt5QLdxPw9n"
      },
      "source": [
        "#### 3. Sum_of_Scores = Score_1 + Score_2 + Score_3 + Score_4"
      ]
    },
    {
      "cell_type": "code",
      "metadata": {
        "id": "flldNwjOPwQc"
      },
      "source": [
        "X_train['Sum_of_Scores'] = X_train['Score_1'] + X_train['Score_2'] + X_train['Score_3'] + X_train['Score_4']\n",
        "X_test['Sum_of_Scores'] = X_test['Score_1'] + X_test['Score_2'] + X_test['Score_3'] + X_test['Score_4']"
      ],
      "execution_count": null,
      "outputs": []
    },
    {
      "cell_type": "markdown",
      "metadata": {
        "id": "bDSOwBLA_w8X"
      },
      "source": [
        "#### 4. Avg_of_3_Scores = (Score_1 + Score_2 + Score_3) / 3"
      ]
    },
    {
      "cell_type": "code",
      "metadata": {
        "id": "4UCt9Udm_w8j"
      },
      "source": [
        "X_train['Avg_of_3_Scores'] = (X_train['Score_1'] + X_train['Score_2'] + X_train['Score_3'])/3\n",
        "X_test['Avg_of_3_Scores'] = (X_test['Score_1'] + X_test['Score_2'] + X_test['Score_3'])/3"
      ],
      "execution_count": null,
      "outputs": []
    },
    {
      "cell_type": "markdown",
      "metadata": {
        "id": "x3T7136sQC_I"
      },
      "source": [
        "#### 5. Prod_of_Scores =  Score_1 * Score_2 * Score_3 * Score_4*10000"
      ]
    },
    {
      "cell_type": "code",
      "metadata": {
        "id": "kHCMG6gNVt80"
      },
      "source": [
        "X_train['Prod_of_Scores'] = X_train['Score_1']*X_train['Score_2']*X_train['Score_3']*X_train['Score_4']\n",
        "X_test['Prod_of_Scores'] = X_test['Score_1']*X_test['Score_2']*X_test['Score_3']*X_test['Score_4']"
      ],
      "execution_count": null,
      "outputs": []
    },
    {
      "cell_type": "code",
      "metadata": {
        "id": "QcEjF1AZXmUi"
      },
      "source": [
        "X_train['Prod_of_Scores'] = X_train['Prod_of_Scores']*10000\n",
        "X_test['Prod_of_Scores'] = X_test['Prod_of_Scores']*10000"
      ],
      "execution_count": null,
      "outputs": []
    },
    {
      "cell_type": "code",
      "metadata": {
        "colab": {
          "base_uri": "https://localhost:8080/",
          "height": 131
        },
        "id": "lefVDWU95LIi",
        "outputId": "40a55396-468f-42cf-e313-c9b2b34b8338"
      },
      "source": [
        "X_train.head(2)"
      ],
      "execution_count": null,
      "outputs": [
        {
          "output_type": "execute_result",
          "data": {
            "text/html": [
              "<div>\n",
              "<style scoped>\n",
              "    .dataframe tbody tr th:only-of-type {\n",
              "        vertical-align: middle;\n",
              "    }\n",
              "\n",
              "    .dataframe tbody tr th {\n",
              "        vertical-align: top;\n",
              "    }\n",
              "\n",
              "    .dataframe thead th {\n",
              "        text-align: right;\n",
              "    }\n",
              "</style>\n",
              "<table border=\"1\" class=\"dataframe\">\n",
              "  <thead>\n",
              "    <tr style=\"text-align: right;\">\n",
              "      <th></th>\n",
              "      <th>Store_Ratio</th>\n",
              "      <th>Basket_Ratio</th>\n",
              "      <th>Category_1</th>\n",
              "      <th>Store_Score</th>\n",
              "      <th>Category_2</th>\n",
              "      <th>Store_Presence</th>\n",
              "      <th>Score_1</th>\n",
              "      <th>Score_2</th>\n",
              "      <th>Score_3</th>\n",
              "      <th>Score_4</th>\n",
              "      <th>time</th>\n",
              "      <th>popularity</th>\n",
              "      <th>Sum_of_Scores</th>\n",
              "      <th>Avg_of_3_Scores</th>\n",
              "      <th>Prod_of_Scores</th>\n",
              "    </tr>\n",
              "  </thead>\n",
              "  <tbody>\n",
              "    <tr>\n",
              "      <th>0</th>\n",
              "      <td>0.407</td>\n",
              "      <td>0.0038</td>\n",
              "      <td>2</td>\n",
              "      <td>0.027882</td>\n",
              "      <td>1</td>\n",
              "      <td>0.992</td>\n",
              "      <td>0.944</td>\n",
              "      <td>0.0988</td>\n",
              "      <td>0.1100</td>\n",
              "      <td>0.518482</td>\n",
              "      <td>189125</td>\n",
              "      <td>4</td>\n",
              "      <td>1.671282</td>\n",
              "      <td>0.384267</td>\n",
              "      <td>53.193094</td>\n",
              "    </tr>\n",
              "    <tr>\n",
              "      <th>1</th>\n",
              "      <td>0.234</td>\n",
              "      <td>0.1050</td>\n",
              "      <td>0</td>\n",
              "      <td>0.050292</td>\n",
              "      <td>1</td>\n",
              "      <td>0.944</td>\n",
              "      <td>0.900</td>\n",
              "      <td>0.1290</td>\n",
              "      <td>0.0382</td>\n",
              "      <td>0.347436</td>\n",
              "      <td>186513</td>\n",
              "      <td>4</td>\n",
              "      <td>1.414636</td>\n",
              "      <td>0.355733</td>\n",
              "      <td>15.408849</td>\n",
              "    </tr>\n",
              "  </tbody>\n",
              "</table>\n",
              "</div>"
            ],
            "text/plain": [
              "   Store_Ratio  Basket_Ratio  ...  Avg_of_3_Scores  Prod_of_Scores\n",
              "0        0.407        0.0038  ...         0.384267       53.193094\n",
              "1        0.234        0.1050  ...         0.355733       15.408849\n",
              "\n",
              "[2 rows x 15 columns]"
            ]
          },
          "metadata": {
            "tags": []
          },
          "execution_count": 111
        }
      ]
    },
    {
      "cell_type": "markdown",
      "metadata": {
        "id": "MVE1k7ifQsNm"
      },
      "source": [
        "#### 6. Store_presence_Sum_of_Scores"
      ]
    },
    {
      "cell_type": "code",
      "metadata": {
        "id": "wRY0BB_UQrav"
      },
      "source": [
        "X_train['Store_presence_Sum_of_Scores'] = X_train['Store_Presence']*X_train['Sum_of_Scores']\n",
        "X_test['Store_presence_Sum_of_Scores'] = X_test['Store_Presence']*X_test['Sum_of_Scores']"
      ],
      "execution_count": null,
      "outputs": []
    },
    {
      "cell_type": "markdown",
      "metadata": {
        "id": "Y0i4ru9tRHMN"
      },
      "source": [
        "#### 7. Store_presence_Store_Score"
      ]
    },
    {
      "cell_type": "code",
      "metadata": {
        "id": "KQ3qEzwzRHMP"
      },
      "source": [
        "X_train['Store_presence_Store_Score'] = X_train['Store_Presence']*X_train['Store_Score']\n",
        "X_test['Store_presence_Store_Score'] = X_test['Store_Presence']*X_test['Store_Score']"
      ],
      "execution_count": null,
      "outputs": []
    },
    {
      "cell_type": "markdown",
      "metadata": {
        "id": "qZlu20kjRk2J"
      },
      "source": [
        "#### 8. Store_presence_Basket_Ratio"
      ]
    },
    {
      "cell_type": "code",
      "metadata": {
        "id": "av3FVcVRRk2K"
      },
      "source": [
        "X_train['Store_presence_Basket_Ratio'] = X_train['Store_Presence']*X_train['Basket_Ratio']\n",
        "X_test['Store_presence_Basket_Ratio'] = X_test['Store_Presence']*X_test['Basket_Ratio']"
      ],
      "execution_count": null,
      "outputs": []
    },
    {
      "cell_type": "markdown",
      "metadata": {
        "id": "AmNPm48vR11f"
      },
      "source": [
        "#### 9. Store_presence_Store_Ratio"
      ]
    },
    {
      "cell_type": "code",
      "metadata": {
        "id": "j-S0Y0LiR11j"
      },
      "source": [
        "X_train['Store_presence_Store_Ratio'] = X_train['Store_Presence']*X_train['Store_Ratio']\n",
        "X_test['Store_presence_Store_Ratio'] = X_test['Store_Presence']*X_test['Store_Ratio']"
      ],
      "execution_count": null,
      "outputs": []
    },
    {
      "cell_type": "markdown",
      "metadata": {
        "id": "DdmjG9U9SqY0"
      },
      "source": [
        "#### 10. Store_Score_Basket_Ratio"
      ]
    },
    {
      "cell_type": "code",
      "metadata": {
        "id": "-MM98_XOSqY1"
      },
      "source": [
        "X_train['Store_Score_Basket_Ratio'] = X_train['Store_Score']*X_train['Basket_Ratio']\n",
        "X_test['Store_Score_Basket_Ratio'] = X_test['Store_Score']*X_test['Basket_Ratio']"
      ],
      "execution_count": null,
      "outputs": []
    },
    {
      "cell_type": "markdown",
      "metadata": {
        "id": "RaaxsrR3TQ90"
      },
      "source": [
        "#### 11. Store_Score_Store_Ratio"
      ]
    },
    {
      "cell_type": "code",
      "metadata": {
        "id": "v1fgDF4dTQ9-"
      },
      "source": [
        "X_train['Store_Score_Store_Ratio'] = X_train['Store_Score']*X_train['Store_Ratio']\n",
        "X_test['Store_Score_Store_Ratio'] = X_test['Store_Score']*X_test['Store_Ratio']"
      ],
      "execution_count": null,
      "outputs": []
    },
    {
      "cell_type": "markdown",
      "metadata": {
        "id": "LuHBPTzZTip4"
      },
      "source": [
        "#### 12. Basket_Ratio_Store_Ratio"
      ]
    },
    {
      "cell_type": "code",
      "metadata": {
        "id": "puoVdsvKTip9"
      },
      "source": [
        "X_train['Basket_Ratio_Store_Ratio'] = X_train['Basket_Ratio']*X_train['Store_Ratio']\n",
        "X_test['Basket_Ratio_Store_Ratio'] = X_test['Basket_Ratio']*X_test['Store_Ratio']"
      ],
      "execution_count": null,
      "outputs": []
    },
    {
      "cell_type": "markdown",
      "metadata": {
        "id": "SXwpuRnWVdRB"
      },
      "source": [
        "#### 13. Store_ratio_score_presence_prod"
      ]
    },
    {
      "cell_type": "code",
      "metadata": {
        "id": "KEntxal6VdSC"
      },
      "source": [
        "X_train['Store_ratio_score_presence_prod'] = X_train['Store_Ratio']*X_train['Store_Score']*X_train['Store_Presence']\n",
        "X_test['Store_ratio_score_presence_prod'] = X_test['Store_Ratio']*X_test['Store_Score']*X_test['Store_Presence']"
      ],
      "execution_count": null,
      "outputs": []
    },
    {
      "cell_type": "markdown",
      "metadata": {
        "id": "szDcv-vxWS24"
      },
      "source": [
        "#### 14. Store_ratio_score_presence_sum"
      ]
    },
    {
      "cell_type": "code",
      "metadata": {
        "id": "1tLQn9bwWS26"
      },
      "source": [
        "X_train['Store_ratio_score_presence_sum'] = X_train['Store_Ratio'] + X_train['Store_Score'] + X_train['Store_Presence']\n",
        "X_test['Store_ratio_score_presence_sum'] = X_test['Store_Ratio'] + X_test['Store_Score'] + X_test['Store_Presence']"
      ],
      "execution_count": null,
      "outputs": []
    },
    {
      "cell_type": "markdown",
      "metadata": {
        "id": "47ROH06PWqK7"
      },
      "source": [
        "#### 15. Store_score_sum_of_scores_sum"
      ]
    },
    {
      "cell_type": "code",
      "metadata": {
        "id": "0H0aBaXkWqLG"
      },
      "source": [
        "X_train['Store_score_sum_of_scores_sum'] = X_train['Store_Score'] + X_train['Sum_of_Scores']\n",
        "X_test['Store_score_sum_of_scores_sum'] = X_test['Store_Score'] + X_test['Sum_of_Scores']"
      ],
      "execution_count": null,
      "outputs": []
    },
    {
      "cell_type": "markdown",
      "metadata": {
        "id": "-kk1waaHXSGm"
      },
      "source": [
        "#### 16. Store_score_sum_of_scores_prod"
      ]
    },
    {
      "cell_type": "code",
      "metadata": {
        "id": "XiIovh72XSGs"
      },
      "source": [
        "X_train['Store_score_sum_of_scores_prod'] = X_train['Store_Score']*X_train['Sum_of_Scores']\n",
        "X_test['Store_score_sum_of_scores_prod'] = X_test['Store_Score']*X_test['Sum_of_Scores']"
      ],
      "execution_count": null,
      "outputs": []
    },
    {
      "cell_type": "code",
      "metadata": {
        "colab": {
          "base_uri": "https://localhost:8080/"
        },
        "id": "PKrvHozQeDJU",
        "outputId": "d234cebe-7481-4d8a-c0bb-9d0fbdfc9b30"
      },
      "source": [
        "value_counts = X_train['Category_1'].value_counts()\n",
        "value_counts"
      ],
      "execution_count": null,
      "outputs": [
        {
          "output_type": "execute_result",
          "data": {
            "text/plain": [
              "0     1921\n",
              "7     1713\n",
              "2     1627\n",
              "9     1418\n",
              "1     1387\n",
              "5     1359\n",
              "4     1141\n",
              "11    1096\n",
              "8     1008\n",
              "6      989\n",
              "10     978\n",
              "3      648\n",
              "Name: Category_1, dtype: int64"
            ]
          },
          "metadata": {
            "tags": []
          },
          "execution_count": 123
        }
      ]
    },
    {
      "cell_type": "code",
      "metadata": {
        "colab": {
          "base_uri": "https://localhost:8080/"
        },
        "id": "PDBQoFD-eqWc",
        "outputId": "38ec621e-d7dd-4d6a-9167-a936d28cc95e"
      },
      "source": [
        "X_train.popularity.value_counts()"
      ],
      "execution_count": null,
      "outputs": [
        {
          "output_type": "execute_result",
          "data": {
            "text/plain": [
              "4    12850\n",
              "3     1784\n",
              "5      376\n",
              "1      261\n",
              "0       14\n",
              "Name: popularity, dtype: int64"
            ]
          },
          "metadata": {
            "tags": []
          },
          "execution_count": 124
        }
      ]
    },
    {
      "cell_type": "markdown",
      "metadata": {
        "id": "oM948ix3lfuE"
      },
      "source": [
        "#### Probability-based response encoding of Categorical variables"
      ]
    },
    {
      "cell_type": "code",
      "metadata": {
        "id": "lEa168SLeJvI"
      },
      "source": [
        "def get_feat_dict(feature):\n",
        "    value_counts = X_train[feature].value_counts()\n",
        "    feat_dict = dict()\n",
        "    for i, denominator in value_counts.items():\n",
        "        vector = []\n",
        "        for k in set(X_train['popularity']):\n",
        "            class_count = X_train[(X_train['popularity'] == k) & (X_train[feature] == i)]\n",
        "            vector.append(class_count.shape[0]/denominator)\n",
        "\n",
        "        feat_dict[i] = vector\n",
        "\n",
        "    return feat_dict\n",
        "\n",
        "def get_encoded_feat(feature, df):\n",
        "    feature_dict = get_feat_dict(feature)\n",
        "    #value_counts = X_train[feature].value_counts()\n",
        "    encoded_feat = []\n",
        "    for index, row in df.iterrows():\n",
        "        encoded_feat.append(feature_dict[row[feature]])\n",
        "  \n",
        "    return encoded_feat"
      ],
      "execution_count": null,
      "outputs": []
    },
    {
      "cell_type": "code",
      "metadata": {
        "id": "c14lNKdPuhaN"
      },
      "source": [
        "# response coding of Category_1 feature\n",
        "X_train_cat1_respCod = np.array(get_encoded_feat('Category_1', X_train))\n",
        "\n",
        "X_test_cat1_respCod = np.array(get_encoded_feat('Category_1', X_test))\n",
        "\n",
        "cat_1_train_df = pd.DataFrame(X_train_cat1_respCod, columns = ['cat1_1', 'cat1_2', 'cat1_3', 'cat1_4', 'cat1_5'])\n",
        "cat_1_test_df = pd.DataFrame(X_test_cat1_respCod, columns = ['cat1_1', 'cat1_2', 'cat1_3', 'cat1_4', 'cat1_5'])"
      ],
      "execution_count": null,
      "outputs": []
    },
    {
      "cell_type": "code",
      "metadata": {
        "id": "MkPOD9zDA-My"
      },
      "source": [
        "X_train = X_train.reset_index(drop = True)\n",
        "X_test = X_test.reset_index(drop = True)"
      ],
      "execution_count": null,
      "outputs": []
    },
    {
      "cell_type": "code",
      "metadata": {
        "colab": {
          "base_uri": "https://localhost:8080/"
        },
        "id": "_CUqnuJA3cYH",
        "outputId": "191a7b7e-323a-4023-cd62-3b155a3493b7"
      },
      "source": [
        "X_train_new = pd.concat([X_train, cat_1_train_df], axis = 1)\n",
        "X_test_new = pd.concat([X_test, cat_1_test_df], axis = 1)\n",
        "\n",
        "print(X_train_new.shape, y_train.shape)\n",
        "print(X_test_new.shape)"
      ],
      "execution_count": null,
      "outputs": [
        {
          "output_type": "stream",
          "text": [
            "(15285, 31) (15285,)\n",
            "(12140, 30)\n"
          ],
          "name": "stdout"
        }
      ]
    },
    {
      "cell_type": "markdown",
      "metadata": {
        "id": "eg1_W-gQSVfS"
      },
      "source": [
        "### ML Models"
      ]
    },
    {
      "cell_type": "code",
      "metadata": {
        "id": "xs2qTvRj2rTQ"
      },
      "source": [
        "X_train_new = X_train_new.drop(['popularity', 'Category_1'], axis = 1)\n",
        "X_test_new = X_test_new.drop(['Category_1'], axis = 1)"
      ],
      "execution_count": null,
      "outputs": []
    },
    {
      "cell_type": "code",
      "metadata": {
        "colab": {
          "base_uri": "https://localhost:8080/",
          "height": 224
        },
        "id": "VLzmD6mkDoS4",
        "outputId": "34c6eacf-f5fb-4dc2-f350-3dbe0e2e00b8"
      },
      "source": [
        "X_train_new.head()"
      ],
      "execution_count": null,
      "outputs": [
        {
          "output_type": "execute_result",
          "data": {
            "text/html": [
              "<div>\n",
              "<style scoped>\n",
              "    .dataframe tbody tr th:only-of-type {\n",
              "        vertical-align: middle;\n",
              "    }\n",
              "\n",
              "    .dataframe tbody tr th {\n",
              "        vertical-align: top;\n",
              "    }\n",
              "\n",
              "    .dataframe thead th {\n",
              "        text-align: right;\n",
              "    }\n",
              "</style>\n",
              "<table border=\"1\" class=\"dataframe\">\n",
              "  <thead>\n",
              "    <tr style=\"text-align: right;\">\n",
              "      <th></th>\n",
              "      <th>Store_Ratio</th>\n",
              "      <th>Basket_Ratio</th>\n",
              "      <th>Store_Score</th>\n",
              "      <th>Category_2</th>\n",
              "      <th>Store_Presence</th>\n",
              "      <th>Score_1</th>\n",
              "      <th>Score_2</th>\n",
              "      <th>Score_3</th>\n",
              "      <th>Score_4</th>\n",
              "      <th>time</th>\n",
              "      <th>Sum_of_Scores</th>\n",
              "      <th>Avg_of_3_Scores</th>\n",
              "      <th>Prod_of_Scores</th>\n",
              "      <th>Store_presence_Sum_of_Scores</th>\n",
              "      <th>Store_presence_Store_Score</th>\n",
              "      <th>Store_presence_Basket_Ratio</th>\n",
              "      <th>Store_presence_Store_Ratio</th>\n",
              "      <th>Store_Score_Basket_Ratio</th>\n",
              "      <th>Store_Score_Store_Ratio</th>\n",
              "      <th>Basket_Ratio_Store_Ratio</th>\n",
              "      <th>Store_ratio_score_presence_prod</th>\n",
              "      <th>Store_ratio_score_presence_sum</th>\n",
              "      <th>Store_score_sum_of_scores_sum</th>\n",
              "      <th>Store_score_sum_of_scores_prod</th>\n",
              "      <th>cat1_1</th>\n",
              "      <th>cat1_2</th>\n",
              "      <th>cat1_3</th>\n",
              "      <th>cat1_4</th>\n",
              "      <th>cat1_5</th>\n",
              "    </tr>\n",
              "  </thead>\n",
              "  <tbody>\n",
              "    <tr>\n",
              "      <th>0</th>\n",
              "      <td>0.407</td>\n",
              "      <td>0.00380</td>\n",
              "      <td>0.027882</td>\n",
              "      <td>1</td>\n",
              "      <td>0.9920</td>\n",
              "      <td>0.944</td>\n",
              "      <td>0.0988</td>\n",
              "      <td>0.1100</td>\n",
              "      <td>0.518482</td>\n",
              "      <td>189125</td>\n",
              "      <td>1.671282</td>\n",
              "      <td>0.384267</td>\n",
              "      <td>53.193094</td>\n",
              "      <td>1.657912</td>\n",
              "      <td>0.027659</td>\n",
              "      <td>0.003770</td>\n",
              "      <td>0.403744</td>\n",
              "      <td>0.000106</td>\n",
              "      <td>0.011348</td>\n",
              "      <td>0.001547</td>\n",
              "      <td>0.011257</td>\n",
              "      <td>1.426882</td>\n",
              "      <td>1.699164</td>\n",
              "      <td>0.046599</td>\n",
              "      <td>0.000000</td>\n",
              "      <td>0.016595</td>\n",
              "      <td>0.128457</td>\n",
              "      <td>0.826675</td>\n",
              "      <td>0.028273</td>\n",
              "    </tr>\n",
              "    <tr>\n",
              "      <th>1</th>\n",
              "      <td>0.234</td>\n",
              "      <td>0.10500</td>\n",
              "      <td>0.050292</td>\n",
              "      <td>1</td>\n",
              "      <td>0.9440</td>\n",
              "      <td>0.900</td>\n",
              "      <td>0.1290</td>\n",
              "      <td>0.0382</td>\n",
              "      <td>0.347436</td>\n",
              "      <td>186513</td>\n",
              "      <td>1.414636</td>\n",
              "      <td>0.355733</td>\n",
              "      <td>15.408849</td>\n",
              "      <td>1.335416</td>\n",
              "      <td>0.047475</td>\n",
              "      <td>0.099120</td>\n",
              "      <td>0.220896</td>\n",
              "      <td>0.005281</td>\n",
              "      <td>0.011768</td>\n",
              "      <td>0.024570</td>\n",
              "      <td>0.011109</td>\n",
              "      <td>1.228292</td>\n",
              "      <td>1.464928</td>\n",
              "      <td>0.071144</td>\n",
              "      <td>0.002603</td>\n",
              "      <td>0.013014</td>\n",
              "      <td>0.130141</td>\n",
              "      <td>0.826653</td>\n",
              "      <td>0.027590</td>\n",
              "    </tr>\n",
              "    <tr>\n",
              "      <th>2</th>\n",
              "      <td>0.668</td>\n",
              "      <td>0.72600</td>\n",
              "      <td>0.133121</td>\n",
              "      <td>1</td>\n",
              "      <td>0.0387</td>\n",
              "      <td>0.000</td>\n",
              "      <td>0.1340</td>\n",
              "      <td>0.4530</td>\n",
              "      <td>0.564745</td>\n",
              "      <td>172143</td>\n",
              "      <td>1.151745</td>\n",
              "      <td>0.195667</td>\n",
              "      <td>0.000000</td>\n",
              "      <td>0.044573</td>\n",
              "      <td>0.005152</td>\n",
              "      <td>0.028096</td>\n",
              "      <td>0.025852</td>\n",
              "      <td>0.096645</td>\n",
              "      <td>0.088925</td>\n",
              "      <td>0.484968</td>\n",
              "      <td>0.003441</td>\n",
              "      <td>0.839821</td>\n",
              "      <td>1.284865</td>\n",
              "      <td>0.153321</td>\n",
              "      <td>0.000000</td>\n",
              "      <td>0.024683</td>\n",
              "      <td>0.119182</td>\n",
              "      <td>0.835684</td>\n",
              "      <td>0.020451</td>\n",
              "    </tr>\n",
              "    <tr>\n",
              "      <th>3</th>\n",
              "      <td>0.184</td>\n",
              "      <td>0.00561</td>\n",
              "      <td>0.029106</td>\n",
              "      <td>1</td>\n",
              "      <td>0.8490</td>\n",
              "      <td>0.931</td>\n",
              "      <td>0.1110</td>\n",
              "      <td>0.0641</td>\n",
              "      <td>0.359748</td>\n",
              "      <td>184000</td>\n",
              "      <td>1.465848</td>\n",
              "      <td>0.368700</td>\n",
              "      <td>23.830278</td>\n",
              "      <td>1.244505</td>\n",
              "      <td>0.024711</td>\n",
              "      <td>0.004763</td>\n",
              "      <td>0.156216</td>\n",
              "      <td>0.000163</td>\n",
              "      <td>0.005356</td>\n",
              "      <td>0.001032</td>\n",
              "      <td>0.004547</td>\n",
              "      <td>1.062106</td>\n",
              "      <td>1.494954</td>\n",
              "      <td>0.042665</td>\n",
              "      <td>0.000876</td>\n",
              "      <td>0.014899</td>\n",
              "      <td>0.130587</td>\n",
              "      <td>0.828221</td>\n",
              "      <td>0.025416</td>\n",
              "    </tr>\n",
              "    <tr>\n",
              "      <th>4</th>\n",
              "      <td>0.231</td>\n",
              "      <td>0.13100</td>\n",
              "      <td>0.043779</td>\n",
              "      <td>1</td>\n",
              "      <td>0.9370</td>\n",
              "      <td>0.000</td>\n",
              "      <td>0.1090</td>\n",
              "      <td>0.0677</td>\n",
              "      <td>0.498678</td>\n",
              "      <td>186507</td>\n",
              "      <td>0.675378</td>\n",
              "      <td>0.058900</td>\n",
              "      <td>0.000000</td>\n",
              "      <td>0.632829</td>\n",
              "      <td>0.041021</td>\n",
              "      <td>0.122747</td>\n",
              "      <td>0.216447</td>\n",
              "      <td>0.005735</td>\n",
              "      <td>0.010113</td>\n",
              "      <td>0.030261</td>\n",
              "      <td>0.009476</td>\n",
              "      <td>1.211779</td>\n",
              "      <td>0.719157</td>\n",
              "      <td>0.029567</td>\n",
              "      <td>0.000000</td>\n",
              "      <td>0.021234</td>\n",
              "      <td>0.104146</td>\n",
              "      <td>0.849343</td>\n",
              "      <td>0.025278</td>\n",
              "    </tr>\n",
              "  </tbody>\n",
              "</table>\n",
              "</div>"
            ],
            "text/plain": [
              "   Store_Ratio  Basket_Ratio  Store_Score  ...    cat1_3    cat1_4    cat1_5\n",
              "0        0.407       0.00380     0.027882  ...  0.128457  0.826675  0.028273\n",
              "1        0.234       0.10500     0.050292  ...  0.130141  0.826653  0.027590\n",
              "2        0.668       0.72600     0.133121  ...  0.119182  0.835684  0.020451\n",
              "3        0.184       0.00561     0.029106  ...  0.130587  0.828221  0.025416\n",
              "4        0.231       0.13100     0.043779  ...  0.104146  0.849343  0.025278\n",
              "\n",
              "[5 rows x 29 columns]"
            ]
          },
          "metadata": {
            "tags": []
          },
          "execution_count": 152
        }
      ]
    },
    {
      "cell_type": "code",
      "metadata": {
        "colab": {
          "base_uri": "https://localhost:8080/",
          "height": 224
        },
        "id": "SY-Mf1vRDsi5",
        "outputId": "07008fed-c36d-4e2a-90d6-29eb3496de33"
      },
      "source": [
        "X_test_new.head()"
      ],
      "execution_count": null,
      "outputs": [
        {
          "output_type": "execute_result",
          "data": {
            "text/html": [
              "<div>\n",
              "<style scoped>\n",
              "    .dataframe tbody tr th:only-of-type {\n",
              "        vertical-align: middle;\n",
              "    }\n",
              "\n",
              "    .dataframe tbody tr th {\n",
              "        vertical-align: top;\n",
              "    }\n",
              "\n",
              "    .dataframe thead th {\n",
              "        text-align: right;\n",
              "    }\n",
              "</style>\n",
              "<table border=\"1\" class=\"dataframe\">\n",
              "  <thead>\n",
              "    <tr style=\"text-align: right;\">\n",
              "      <th></th>\n",
              "      <th>Store_Ratio</th>\n",
              "      <th>Basket_Ratio</th>\n",
              "      <th>Store_Score</th>\n",
              "      <th>Category_2</th>\n",
              "      <th>Store_Presence</th>\n",
              "      <th>Score_1</th>\n",
              "      <th>Score_2</th>\n",
              "      <th>Score_3</th>\n",
              "      <th>Score_4</th>\n",
              "      <th>time</th>\n",
              "      <th>Sum_of_Scores</th>\n",
              "      <th>Avg_of_3_Scores</th>\n",
              "      <th>Prod_of_Scores</th>\n",
              "      <th>Store_presence_Sum_of_Scores</th>\n",
              "      <th>Store_presence_Store_Score</th>\n",
              "      <th>Store_presence_Basket_Ratio</th>\n",
              "      <th>Store_presence_Store_Ratio</th>\n",
              "      <th>Store_Score_Basket_Ratio</th>\n",
              "      <th>Store_Score_Store_Ratio</th>\n",
              "      <th>Basket_Ratio_Store_Ratio</th>\n",
              "      <th>Store_ratio_score_presence_prod</th>\n",
              "      <th>Store_ratio_score_presence_sum</th>\n",
              "      <th>Store_score_sum_of_scores_sum</th>\n",
              "      <th>Store_score_sum_of_scores_prod</th>\n",
              "      <th>cat1_1</th>\n",
              "      <th>cat1_2</th>\n",
              "      <th>cat1_3</th>\n",
              "      <th>cat1_4</th>\n",
              "      <th>cat1_5</th>\n",
              "    </tr>\n",
              "  </thead>\n",
              "  <tbody>\n",
              "    <tr>\n",
              "      <th>0</th>\n",
              "      <td>0.164</td>\n",
              "      <td>0.994</td>\n",
              "      <td>0.042162</td>\n",
              "      <td>0</td>\n",
              "      <td>0.12400</td>\n",
              "      <td>0.99100</td>\n",
              "      <td>0.7890</td>\n",
              "      <td>0.00001</td>\n",
              "      <td>0.580798</td>\n",
              "      <td>236436</td>\n",
              "      <td>2.360808</td>\n",
              "      <td>0.593337</td>\n",
              "      <td>0.045413</td>\n",
              "      <td>0.292740</td>\n",
              "      <td>0.005228</td>\n",
              "      <td>0.123256</td>\n",
              "      <td>0.020336</td>\n",
              "      <td>0.041909</td>\n",
              "      <td>0.006915</td>\n",
              "      <td>0.163016</td>\n",
              "      <td>0.000857</td>\n",
              "      <td>0.330162</td>\n",
              "      <td>2.402971</td>\n",
              "      <td>0.099537</td>\n",
              "      <td>0.000721</td>\n",
              "      <td>0.018025</td>\n",
              "      <td>0.088681</td>\n",
              "      <td>0.865898</td>\n",
              "      <td>0.026676</td>\n",
              "    </tr>\n",
              "    <tr>\n",
              "      <th>1</th>\n",
              "      <td>0.586</td>\n",
              "      <td>0.636</td>\n",
              "      <td>0.129702</td>\n",
              "      <td>1</td>\n",
              "      <td>0.00208</td>\n",
              "      <td>0.32200</td>\n",
              "      <td>0.1070</td>\n",
              "      <td>0.35500</td>\n",
              "      <td>0.620557</td>\n",
              "      <td>253631</td>\n",
              "      <td>1.404557</td>\n",
              "      <td>0.261333</td>\n",
              "      <td>75.901385</td>\n",
              "      <td>0.002921</td>\n",
              "      <td>0.000270</td>\n",
              "      <td>0.001323</td>\n",
              "      <td>0.001219</td>\n",
              "      <td>0.082490</td>\n",
              "      <td>0.076005</td>\n",
              "      <td>0.372696</td>\n",
              "      <td>0.000158</td>\n",
              "      <td>0.717782</td>\n",
              "      <td>1.534259</td>\n",
              "      <td>0.182174</td>\n",
              "      <td>0.000876</td>\n",
              "      <td>0.014899</td>\n",
              "      <td>0.130587</td>\n",
              "      <td>0.828221</td>\n",
              "      <td>0.025416</td>\n",
              "    </tr>\n",
              "    <tr>\n",
              "      <th>2</th>\n",
              "      <td>0.457</td>\n",
              "      <td>0.743</td>\n",
              "      <td>0.131735</td>\n",
              "      <td>1</td>\n",
              "      <td>0.40400</td>\n",
              "      <td>0.00931</td>\n",
              "      <td>0.2010</td>\n",
              "      <td>0.68800</td>\n",
              "      <td>0.705058</td>\n",
              "      <td>215669</td>\n",
              "      <td>1.603368</td>\n",
              "      <td>0.299437</td>\n",
              "      <td>9.077352</td>\n",
              "      <td>0.647761</td>\n",
              "      <td>0.053221</td>\n",
              "      <td>0.300172</td>\n",
              "      <td>0.184628</td>\n",
              "      <td>0.097879</td>\n",
              "      <td>0.060203</td>\n",
              "      <td>0.339551</td>\n",
              "      <td>0.024322</td>\n",
              "      <td>0.992735</td>\n",
              "      <td>1.735103</td>\n",
              "      <td>0.211220</td>\n",
              "      <td>0.002603</td>\n",
              "      <td>0.013014</td>\n",
              "      <td>0.130141</td>\n",
              "      <td>0.826653</td>\n",
              "      <td>0.027590</td>\n",
              "    </tr>\n",
              "    <tr>\n",
              "      <th>3</th>\n",
              "      <td>0.423</td>\n",
              "      <td>0.748</td>\n",
              "      <td>0.101709</td>\n",
              "      <td>1</td>\n",
              "      <td>0.03000</td>\n",
              "      <td>0.22100</td>\n",
              "      <td>0.1690</td>\n",
              "      <td>0.42800</td>\n",
              "      <td>0.427750</td>\n",
              "      <td>325200</td>\n",
              "      <td>1.245750</td>\n",
              "      <td>0.272667</td>\n",
              "      <td>68.377354</td>\n",
              "      <td>0.037372</td>\n",
              "      <td>0.003051</td>\n",
              "      <td>0.022440</td>\n",
              "      <td>0.012690</td>\n",
              "      <td>0.076078</td>\n",
              "      <td>0.043023</td>\n",
              "      <td>0.316404</td>\n",
              "      <td>0.001291</td>\n",
              "      <td>0.554709</td>\n",
              "      <td>1.347458</td>\n",
              "      <td>0.126704</td>\n",
              "      <td>0.002943</td>\n",
              "      <td>0.014717</td>\n",
              "      <td>0.118469</td>\n",
              "      <td>0.844739</td>\n",
              "      <td>0.019132</td>\n",
              "    </tr>\n",
              "    <tr>\n",
              "      <th>4</th>\n",
              "      <td>0.802</td>\n",
              "      <td>0.756</td>\n",
              "      <td>0.092670</td>\n",
              "      <td>0</td>\n",
              "      <td>0.08430</td>\n",
              "      <td>0.00765</td>\n",
              "      <td>0.0521</td>\n",
              "      <td>0.96300</td>\n",
              "      <td>0.599519</td>\n",
              "      <td>288293</td>\n",
              "      <td>1.622269</td>\n",
              "      <td>0.340917</td>\n",
              "      <td>2.301064</td>\n",
              "      <td>0.136757</td>\n",
              "      <td>0.007812</td>\n",
              "      <td>0.063731</td>\n",
              "      <td>0.067609</td>\n",
              "      <td>0.070058</td>\n",
              "      <td>0.074321</td>\n",
              "      <td>0.606312</td>\n",
              "      <td>0.006265</td>\n",
              "      <td>0.978970</td>\n",
              "      <td>1.714939</td>\n",
              "      <td>0.150336</td>\n",
              "      <td>0.000000</td>\n",
              "      <td>0.016595</td>\n",
              "      <td>0.128457</td>\n",
              "      <td>0.826675</td>\n",
              "      <td>0.028273</td>\n",
              "    </tr>\n",
              "  </tbody>\n",
              "</table>\n",
              "</div>"
            ],
            "text/plain": [
              "   Store_Ratio  Basket_Ratio  Store_Score  ...    cat1_3    cat1_4    cat1_5\n",
              "0        0.164         0.994     0.042162  ...  0.088681  0.865898  0.026676\n",
              "1        0.586         0.636     0.129702  ...  0.130587  0.828221  0.025416\n",
              "2        0.457         0.743     0.131735  ...  0.130141  0.826653  0.027590\n",
              "3        0.423         0.748     0.101709  ...  0.118469  0.844739  0.019132\n",
              "4        0.802         0.756     0.092670  ...  0.128457  0.826675  0.028273\n",
              "\n",
              "[5 rows x 29 columns]"
            ]
          },
          "metadata": {
            "tags": []
          },
          "execution_count": 153
        }
      ]
    },
    {
      "cell_type": "markdown",
      "metadata": {
        "id": "NO-5DgesmbOT"
      },
      "source": [
        "### XGBoost Classifier\n",
        "\n",
        "(with hyperparameter tuning)"
      ]
    },
    {
      "cell_type": "code",
      "metadata": {
        "colab": {
          "base_uri": "https://localhost:8080/"
        },
        "id": "oxMjN6hN4mkZ",
        "outputId": "5fb55260-9417-46d8-dfd3-fe9def787503"
      },
      "source": [
        "# high_level tuned xgboost classifier\n",
        "from xgboost import XGBClassifier\n",
        "from sklearn.metrics import log_loss\n",
        "from sklearn.model_selection import GridSearchCV\n",
        "\n",
        "xgb = XGBClassifier(n_estimators = 150, random_state = 21)\n",
        "params = {'max_depth': [3, 5, 7], \n",
        "          'colsample_bytree': [0.6, 0.8, 1],\n",
        "          'subsample': [0.4, 0.6, 0.8, 1],\n",
        "          'learning_rate':[0.01, 0.1]}\n",
        "\n",
        "clf = GridSearchCV(xgb, params, scoring = 'neg_log_loss', cv = 3, return_train_score = True, n_jobs = -1)\n",
        "clf.fit(X_train_new, y_train)"
      ],
      "execution_count": null,
      "outputs": [
        {
          "output_type": "execute_result",
          "data": {
            "text/plain": [
              "GridSearchCV(cv=3, error_score=nan,\n",
              "             estimator=XGBClassifier(base_score=0.5, booster='gbtree',\n",
              "                                     colsample_bylevel=1, colsample_bynode=1,\n",
              "                                     colsample_bytree=1, gamma=0,\n",
              "                                     learning_rate=0.1, max_delta_step=0,\n",
              "                                     max_depth=3, min_child_weight=1,\n",
              "                                     missing=None, n_estimators=150, n_jobs=1,\n",
              "                                     nthread=None, objective='binary:logistic',\n",
              "                                     random_state=21, reg_alpha=0, reg_lambda=1,\n",
              "                                     scale_pos_weight=1, seed=None, silent=None,\n",
              "                                     subsample=1, verbosity=1),\n",
              "             iid='deprecated', n_jobs=-1,\n",
              "             param_grid={'colsample_bytree': [0.6, 0.8, 1],\n",
              "                         'learning_rate': [0.01, 0.1], 'max_depth': [3, 5, 7],\n",
              "                         'subsample': [0.4, 0.6, 0.8, 1]},\n",
              "             pre_dispatch='2*n_jobs', refit=True, return_train_score=True,\n",
              "             scoring='neg_log_loss', verbose=0)"
            ]
          },
          "metadata": {
            "tags": []
          },
          "execution_count": 137
        }
      ]
    },
    {
      "cell_type": "code",
      "metadata": {
        "colab": {
          "base_uri": "https://localhost:8080/"
        },
        "id": "mvggWPnYxEDP",
        "outputId": "c3671ffd-3e27-4ec1-b106-4d0507897e66"
      },
      "source": [
        "clf.best_params_"
      ],
      "execution_count": null,
      "outputs": [
        {
          "output_type": "execute_result",
          "data": {
            "text/plain": [
              "{'colsample_bytree': 0.6,\n",
              " 'learning_rate': 0.1,\n",
              " 'max_depth': 3,\n",
              " 'subsample': 0.8}"
            ]
          },
          "metadata": {
            "tags": []
          },
          "execution_count": 148
        }
      ]
    },
    {
      "cell_type": "code",
      "metadata": {
        "colab": {
          "base_uri": "https://localhost:8080/"
        },
        "id": "rX64928hxJ_d",
        "outputId": "e754f5a1-6dda-4886-a306-7242d0ce4343"
      },
      "source": [
        "clf.best_score_"
      ],
      "execution_count": null,
      "outputs": [
        {
          "output_type": "execute_result",
          "data": {
            "text/plain": [
              "-0.4659507496047572"
            ]
          },
          "metadata": {
            "tags": []
          },
          "execution_count": 139
        }
      ]
    },
    {
      "cell_type": "code",
      "metadata": {
        "colab": {
          "base_uri": "https://localhost:8080/"
        },
        "id": "Uczbxe1U75Gu",
        "outputId": "7c99ac4c-6ae9-4078-a5bc-12f13be980d0"
      },
      "source": [
        "clf.best_params_"
      ],
      "execution_count": null,
      "outputs": [
        {
          "output_type": "execute_result",
          "data": {
            "text/plain": [
              "{'colsample_bytree': 1, 'learning_rate': 0.1, 'max_depth': 3, 'subsample': 0.8}"
            ]
          },
          "metadata": {
            "tags": []
          },
          "execution_count": 51
        }
      ]
    },
    {
      "cell_type": "code",
      "metadata": {
        "colab": {
          "base_uri": "https://localhost:8080/"
        },
        "id": "7-qAgnrREY3x",
        "outputId": "aad5e415-e81a-4cef-c674-8bfc29c4a115"
      },
      "source": [
        "clf.best_score_"
      ],
      "execution_count": null,
      "outputs": [
        {
          "output_type": "execute_result",
          "data": {
            "text/plain": [
              "-0.46611125282130766"
            ]
          },
          "metadata": {
            "tags": []
          },
          "execution_count": 52
        }
      ]
    },
    {
      "cell_type": "code",
      "metadata": {
        "colab": {
          "base_uri": "https://localhost:8080/"
        },
        "id": "U9YN6R8B6jSp",
        "outputId": "8fb21a25-1654-4752-de8b-fe65d5baccfe"
      },
      "source": [
        "# high_level tuned xgboost classifier\n",
        "from xgboost import XGBClassifier\n",
        "from sklearn.metrics import log_loss\n",
        "from sklearn.model_selection import GridSearchCV\n",
        "\n",
        "xgb = XGBClassifier(n_estimators = 450, random_state = 21)\n",
        "params = {'max_depth': [3, 5], \n",
        "          'colsample_bytree': [0.4, 0.6, 0.8, 1],\n",
        "          'subsample': [0.4, 0.6, 0.8, 1]}\n",
        "          #'learning_rate':[0.01, 0.1]}\n",
        "\n",
        "clf = GridSearchCV(xgb, params, scoring = 'neg_log_loss', cv = 3, return_train_score = True, n_jobs = -1)\n",
        "clf.fit(X_train_new, y_train)"
      ],
      "execution_count": null,
      "outputs": [
        {
          "output_type": "execute_result",
          "data": {
            "text/plain": [
              "GridSearchCV(cv=3, error_score=nan,\n",
              "             estimator=XGBClassifier(base_score=0.5, booster='gbtree',\n",
              "                                     colsample_bylevel=1, colsample_bynode=1,\n",
              "                                     colsample_bytree=1, gamma=0,\n",
              "                                     learning_rate=0.1, max_delta_step=0,\n",
              "                                     max_depth=3, min_child_weight=1,\n",
              "                                     missing=None, n_estimators=450, n_jobs=1,\n",
              "                                     nthread=None, objective='binary:logistic',\n",
              "                                     random_state=21, reg_alpha=0, reg_lambda=1,\n",
              "                                     scale_pos_weight=1, seed=None, silent=None,\n",
              "                                     subsample=1, verbosity=1),\n",
              "             iid='deprecated', n_jobs=-1,\n",
              "             param_grid={'colsample_bytree': [0.4, 0.6, 0.8, 1],\n",
              "                         'max_depth': [3, 5], 'subsample': [0.4, 0.6, 0.8, 1]},\n",
              "             pre_dispatch='2*n_jobs', refit=True, return_train_score=True,\n",
              "             scoring='neg_log_loss', verbose=0)"
            ]
          },
          "metadata": {
            "tags": []
          },
          "execution_count": 154
        }
      ]
    },
    {
      "cell_type": "code",
      "metadata": {
        "colab": {
          "base_uri": "https://localhost:8080/"
        },
        "id": "JvpLSn-dZ9X3",
        "outputId": "371281b3-a3c4-4fcf-f750-5b6fe4bdc8e0"
      },
      "source": [
        "clf.best_params_"
      ],
      "execution_count": null,
      "outputs": [
        {
          "output_type": "execute_result",
          "data": {
            "text/plain": [
              "{'colsample_bytree': 0.4, 'max_depth': 3, 'subsample': 1}"
            ]
          },
          "metadata": {
            "tags": []
          },
          "execution_count": 155
        }
      ]
    },
    {
      "cell_type": "code",
      "metadata": {
        "colab": {
          "base_uri": "https://localhost:8080/"
        },
        "id": "FGaN5hKMMySF",
        "outputId": "ed2442d0-d050-4ad2-cb1c-468961b9e61e"
      },
      "source": [
        "clf.best_score_"
      ],
      "execution_count": null,
      "outputs": [
        {
          "output_type": "execute_result",
          "data": {
            "text/plain": [
              "-0.4788486651919996"
            ]
          },
          "metadata": {
            "tags": []
          },
          "execution_count": 156
        }
      ]
    },
    {
      "cell_type": "markdown",
      "metadata": {
        "id": "qgN4DUqKxW8p"
      },
      "source": [
        "### XGB model with optimal parameters"
      ]
    },
    {
      "cell_type": "code",
      "metadata": {
        "colab": {
          "base_uri": "https://localhost:8080/",
          "height": 100
        },
        "id": "C0XA5tfyx31e",
        "outputId": "90f6b78c-d35e-47da-d127-2ba8a9a226a2"
      },
      "source": [
        "X_train_new.head(1)"
      ],
      "execution_count": null,
      "outputs": [
        {
          "output_type": "execute_result",
          "data": {
            "text/html": [
              "<div>\n",
              "<style scoped>\n",
              "    .dataframe tbody tr th:only-of-type {\n",
              "        vertical-align: middle;\n",
              "    }\n",
              "\n",
              "    .dataframe tbody tr th {\n",
              "        vertical-align: top;\n",
              "    }\n",
              "\n",
              "    .dataframe thead th {\n",
              "        text-align: right;\n",
              "    }\n",
              "</style>\n",
              "<table border=\"1\" class=\"dataframe\">\n",
              "  <thead>\n",
              "    <tr style=\"text-align: right;\">\n",
              "      <th></th>\n",
              "      <th>Store_Ratio</th>\n",
              "      <th>Basket_Ratio</th>\n",
              "      <th>Store_Score</th>\n",
              "      <th>Store_Presence</th>\n",
              "      <th>Score_1</th>\n",
              "      <th>Score_2</th>\n",
              "      <th>Score_3</th>\n",
              "      <th>Score_4</th>\n",
              "      <th>time</th>\n",
              "      <th>Sum_of_Scores</th>\n",
              "      <th>Avg_of_3_Scores</th>\n",
              "      <th>Prod_of_Scores</th>\n",
              "      <th>Store_presence_Sum_of_Scores</th>\n",
              "      <th>Store_presence_Store_Score</th>\n",
              "      <th>Store_presence_Basket_Ratio</th>\n",
              "      <th>Store_presence_Store_Ratio</th>\n",
              "      <th>Store_Score_Basket_Ratio</th>\n",
              "      <th>Store_Score_Store_Ratio</th>\n",
              "      <th>Basket_Ratio_Store_Ratio</th>\n",
              "      <th>Store_ratio_score_presence_prod</th>\n",
              "      <th>Store_ratio_score_presence_sum</th>\n",
              "      <th>Store_score_sum_of_scores_sum</th>\n",
              "      <th>Store_score_sum_of_scores_prod</th>\n",
              "      <th>cat1_1</th>\n",
              "      <th>cat1_2</th>\n",
              "      <th>cat1_3</th>\n",
              "      <th>cat1_4</th>\n",
              "      <th>cat1_5</th>\n",
              "      <th>cat2_1</th>\n",
              "      <th>cat2_2</th>\n",
              "      <th>cat2_3</th>\n",
              "      <th>cat2_4</th>\n",
              "      <th>cat2_5</th>\n",
              "    </tr>\n",
              "  </thead>\n",
              "  <tbody>\n",
              "    <tr>\n",
              "      <th>0</th>\n",
              "      <td>0.407</td>\n",
              "      <td>0.0038</td>\n",
              "      <td>0.027882</td>\n",
              "      <td>0.992</td>\n",
              "      <td>0.944</td>\n",
              "      <td>0.0988</td>\n",
              "      <td>0.11</td>\n",
              "      <td>0.518482</td>\n",
              "      <td>189125</td>\n",
              "      <td>1.671282</td>\n",
              "      <td>0.384267</td>\n",
              "      <td>53.193094</td>\n",
              "      <td>1.657912</td>\n",
              "      <td>0.027659</td>\n",
              "      <td>0.00377</td>\n",
              "      <td>0.403744</td>\n",
              "      <td>0.000106</td>\n",
              "      <td>0.011348</td>\n",
              "      <td>0.001547</td>\n",
              "      <td>0.011257</td>\n",
              "      <td>1.426882</td>\n",
              "      <td>1.699164</td>\n",
              "      <td>0.046599</td>\n",
              "      <td>0.0</td>\n",
              "      <td>0.016595</td>\n",
              "      <td>0.128457</td>\n",
              "      <td>0.826675</td>\n",
              "      <td>0.028273</td>\n",
              "      <td>0.001012</td>\n",
              "      <td>0.018427</td>\n",
              "      <td>0.125342</td>\n",
              "      <td>0.831123</td>\n",
              "      <td>0.024096</td>\n",
              "    </tr>\n",
              "  </tbody>\n",
              "</table>\n",
              "</div>"
            ],
            "text/plain": [
              "   Store_Ratio  Basket_Ratio  Store_Score  ...    cat2_3    cat2_4    cat2_5\n",
              "0        0.407        0.0038     0.027882  ...  0.125342  0.831123  0.024096\n",
              "\n",
              "[1 rows x 33 columns]"
            ]
          },
          "metadata": {
            "tags": []
          },
          "execution_count": 142
        }
      ]
    },
    {
      "cell_type": "code",
      "metadata": {
        "colab": {
          "base_uri": "https://localhost:8080/",
          "height": 100
        },
        "id": "M2B6Gd4vz8Ju",
        "outputId": "0821a94a-e39d-4c33-edf2-6043151da877"
      },
      "source": [
        "X_test_new.head(1)"
      ],
      "execution_count": null,
      "outputs": [
        {
          "output_type": "execute_result",
          "data": {
            "text/html": [
              "<div>\n",
              "<style scoped>\n",
              "    .dataframe tbody tr th:only-of-type {\n",
              "        vertical-align: middle;\n",
              "    }\n",
              "\n",
              "    .dataframe tbody tr th {\n",
              "        vertical-align: top;\n",
              "    }\n",
              "\n",
              "    .dataframe thead th {\n",
              "        text-align: right;\n",
              "    }\n",
              "</style>\n",
              "<table border=\"1\" class=\"dataframe\">\n",
              "  <thead>\n",
              "    <tr style=\"text-align: right;\">\n",
              "      <th></th>\n",
              "      <th>Store_Ratio</th>\n",
              "      <th>Basket_Ratio</th>\n",
              "      <th>Store_Score</th>\n",
              "      <th>Store_Presence</th>\n",
              "      <th>Score_1</th>\n",
              "      <th>Score_2</th>\n",
              "      <th>Score_3</th>\n",
              "      <th>Score_4</th>\n",
              "      <th>time</th>\n",
              "      <th>Sum_of_Scores</th>\n",
              "      <th>Avg_of_3_Scores</th>\n",
              "      <th>Prod_of_Scores</th>\n",
              "      <th>Store_presence_Sum_of_Scores</th>\n",
              "      <th>Store_presence_Store_Score</th>\n",
              "      <th>Store_presence_Basket_Ratio</th>\n",
              "      <th>Store_presence_Store_Ratio</th>\n",
              "      <th>Store_Score_Basket_Ratio</th>\n",
              "      <th>Store_Score_Store_Ratio</th>\n",
              "      <th>Basket_Ratio_Store_Ratio</th>\n",
              "      <th>Store_ratio_score_presence_prod</th>\n",
              "      <th>Store_ratio_score_presence_sum</th>\n",
              "      <th>Store_score_sum_of_scores_sum</th>\n",
              "      <th>Store_score_sum_of_scores_prod</th>\n",
              "      <th>cat1_1</th>\n",
              "      <th>cat1_2</th>\n",
              "      <th>cat1_3</th>\n",
              "      <th>cat1_4</th>\n",
              "      <th>cat1_5</th>\n",
              "      <th>cat2_1</th>\n",
              "      <th>cat2_2</th>\n",
              "      <th>cat2_3</th>\n",
              "      <th>cat2_4</th>\n",
              "      <th>cat2_5</th>\n",
              "    </tr>\n",
              "  </thead>\n",
              "  <tbody>\n",
              "    <tr>\n",
              "      <th>0</th>\n",
              "      <td>0.164</td>\n",
              "      <td>0.994</td>\n",
              "      <td>0.042162</td>\n",
              "      <td>0.124</td>\n",
              "      <td>0.991</td>\n",
              "      <td>0.789</td>\n",
              "      <td>0.00001</td>\n",
              "      <td>0.580798</td>\n",
              "      <td>236436</td>\n",
              "      <td>2.360808</td>\n",
              "      <td>0.593337</td>\n",
              "      <td>0.045413</td>\n",
              "      <td>0.29274</td>\n",
              "      <td>0.005228</td>\n",
              "      <td>0.123256</td>\n",
              "      <td>0.020336</td>\n",
              "      <td>0.041909</td>\n",
              "      <td>0.006915</td>\n",
              "      <td>0.163016</td>\n",
              "      <td>0.000857</td>\n",
              "      <td>0.330162</td>\n",
              "      <td>2.402971</td>\n",
              "      <td>0.099537</td>\n",
              "      <td>0.000721</td>\n",
              "      <td>0.018025</td>\n",
              "      <td>0.088681</td>\n",
              "      <td>0.865898</td>\n",
              "      <td>0.026676</td>\n",
              "      <td>0.00074</td>\n",
              "      <td>0.014608</td>\n",
              "      <td>0.100962</td>\n",
              "      <td>0.858173</td>\n",
              "      <td>0.025518</td>\n",
              "    </tr>\n",
              "  </tbody>\n",
              "</table>\n",
              "</div>"
            ],
            "text/plain": [
              "   Store_Ratio  Basket_Ratio  Store_Score  ...    cat2_3    cat2_4    cat2_5\n",
              "0        0.164         0.994     0.042162  ...  0.100962  0.858173  0.025518\n",
              "\n",
              "[1 rows x 33 columns]"
            ]
          },
          "metadata": {
            "tags": []
          },
          "execution_count": 147
        }
      ]
    },
    {
      "cell_type": "markdown",
      "metadata": {
        "id": "XGHDrZlFxxxX"
      },
      "source": [
        "{'n_estimators = 150,\n",
        "  'colsample_bytree': 0.6,\n",
        " 'learning_rate': 0.1,\n",
        " 'max_depth': 3,\n",
        " 'subsample': 0.8}"
      ]
    },
    {
      "cell_type": "code",
      "metadata": {
        "colab": {
          "base_uri": "https://localhost:8080/"
        },
        "id": "EVzx_3d8S70Y",
        "outputId": "2bbb1c61-71ad-4f12-fb4a-57fba59bcaae"
      },
      "source": [
        "# high_level tuned xgboost classifier\n",
        "from xgboost import XGBClassifier\n",
        "from sklearn.metrics import log_loss\n",
        "\n",
        "xgb = XGBClassifier(n_estimators = 150, max_depth = 3, colsample_bytree = 0.6, \n",
        "                    subsample = 0.8, learning_rate = 0.1, random_state = 21)\n",
        "xgb.fit(X_train_new, y_train)\n",
        "\n",
        "y_pred_test = xgb.predict_proba(X_test_new)\n",
        "y_pred_train = xgb.predict_proba(X_train_new)\n",
        "\n",
        "train_loss = log_loss(y_train, y_pred_train, labels = xgb.classes_)\n",
        "#test_loss = log_loss(y_test, y_pred_test, labels = xgb.classes_)\n",
        "print(\"Train Loss:\", train_loss)\n",
        "#print(\"Test Loss:\", test_loss)"
      ],
      "execution_count": null,
      "outputs": [
        {
          "output_type": "stream",
          "text": [
            "Train Loss: 0.3929558589027224\n"
          ],
          "name": "stdout"
        }
      ]
    },
    {
      "cell_type": "code",
      "metadata": {
        "colab": {
          "base_uri": "https://localhost:8080/"
        },
        "id": "CWcSf4tGkqQf",
        "outputId": "d75d6f26-e3b2-42be-fc9c-afbb6109e0d4"
      },
      "source": [
        "y_pred_test"
      ],
      "execution_count": null,
      "outputs": [
        {
          "output_type": "execute_result",
          "data": {
            "text/plain": [
              "array([[1.6471621e-04, 7.5324088e-02, 2.7760291e-01, 5.0788915e-01,\n",
              "        1.3901913e-01],\n",
              "       [9.5017946e-05, 2.5064796e-03, 2.3617612e-02, 9.6760345e-01,\n",
              "        6.1774431e-03],\n",
              "       [8.2220569e-05, 7.0752208e-03, 7.6335214e-02, 8.9665669e-01,\n",
              "        1.9850703e-02],\n",
              "       ...,\n",
              "       [9.9121957e-05, 2.1055995e-03, 2.1972312e-02, 9.7335017e-01,\n",
              "        2.4727928e-03],\n",
              "       [3.7498710e-05, 2.5192448e-03, 2.1459000e-02, 9.7274101e-01,\n",
              "        3.2432615e-03],\n",
              "       [7.9301411e-05, 2.2285972e-02, 6.2288523e-01, 3.3192685e-01,\n",
              "        2.2822706e-02]], dtype=float32)"
            ]
          },
          "metadata": {
            "tags": []
          },
          "execution_count": 144
        }
      ]
    },
    {
      "cell_type": "code",
      "metadata": {
        "colab": {
          "base_uri": "https://localhost:8080/",
          "height": 204
        },
        "id": "wl9bYgAfkqQi",
        "outputId": "c0ce2efb-ff77-4fe5-8410-e0bbaf6021fc"
      },
      "source": [
        "xgb_tuned_df = pd.DataFrame(y_pred_test)\n",
        "xgb_tuned_df.head()"
      ],
      "execution_count": null,
      "outputs": [
        {
          "output_type": "execute_result",
          "data": {
            "text/html": [
              "<div>\n",
              "<style scoped>\n",
              "    .dataframe tbody tr th:only-of-type {\n",
              "        vertical-align: middle;\n",
              "    }\n",
              "\n",
              "    .dataframe tbody tr th {\n",
              "        vertical-align: top;\n",
              "    }\n",
              "\n",
              "    .dataframe thead th {\n",
              "        text-align: right;\n",
              "    }\n",
              "</style>\n",
              "<table border=\"1\" class=\"dataframe\">\n",
              "  <thead>\n",
              "    <tr style=\"text-align: right;\">\n",
              "      <th></th>\n",
              "      <th>0</th>\n",
              "      <th>1</th>\n",
              "      <th>2</th>\n",
              "      <th>3</th>\n",
              "      <th>4</th>\n",
              "    </tr>\n",
              "  </thead>\n",
              "  <tbody>\n",
              "    <tr>\n",
              "      <th>0</th>\n",
              "      <td>0.000165</td>\n",
              "      <td>0.075324</td>\n",
              "      <td>0.277603</td>\n",
              "      <td>0.507889</td>\n",
              "      <td>0.139019</td>\n",
              "    </tr>\n",
              "    <tr>\n",
              "      <th>1</th>\n",
              "      <td>0.000095</td>\n",
              "      <td>0.002506</td>\n",
              "      <td>0.023618</td>\n",
              "      <td>0.967603</td>\n",
              "      <td>0.006177</td>\n",
              "    </tr>\n",
              "    <tr>\n",
              "      <th>2</th>\n",
              "      <td>0.000082</td>\n",
              "      <td>0.007075</td>\n",
              "      <td>0.076335</td>\n",
              "      <td>0.896657</td>\n",
              "      <td>0.019851</td>\n",
              "    </tr>\n",
              "    <tr>\n",
              "      <th>3</th>\n",
              "      <td>0.000064</td>\n",
              "      <td>0.005201</td>\n",
              "      <td>0.036976</td>\n",
              "      <td>0.948908</td>\n",
              "      <td>0.008851</td>\n",
              "    </tr>\n",
              "    <tr>\n",
              "      <th>4</th>\n",
              "      <td>0.000025</td>\n",
              "      <td>0.000831</td>\n",
              "      <td>0.006403</td>\n",
              "      <td>0.989587</td>\n",
              "      <td>0.003154</td>\n",
              "    </tr>\n",
              "  </tbody>\n",
              "</table>\n",
              "</div>"
            ],
            "text/plain": [
              "          0         1         2         3         4\n",
              "0  0.000165  0.075324  0.277603  0.507889  0.139019\n",
              "1  0.000095  0.002506  0.023618  0.967603  0.006177\n",
              "2  0.000082  0.007075  0.076335  0.896657  0.019851\n",
              "3  0.000064  0.005201  0.036976  0.948908  0.008851\n",
              "4  0.000025  0.000831  0.006403  0.989587  0.003154"
            ]
          },
          "metadata": {
            "tags": []
          },
          "execution_count": 145
        }
      ]
    },
    {
      "cell_type": "code",
      "metadata": {
        "id": "tr_bXJApkqQk"
      },
      "source": [
        "xgb_tuned_df.to_csv(my_path + 'xgb_tuned150_3_0608.csv', index = False)"
      ],
      "execution_count": null,
      "outputs": []
    },
    {
      "cell_type": "markdown",
      "metadata": {
        "id": "Agrw15e4m92S"
      },
      "source": [
        "{'n_estimators = 450\n",
        "  'colsample_bytree': 0.8,\n",
        " 'learning_rate': 0.1,\n",
        " 'max_depth': 5,\n",
        " 'subsample': 0.6}"
      ]
    },
    {
      "cell_type": "code",
      "metadata": {
        "colab": {
          "base_uri": "https://localhost:8080/"
        },
        "id": "j4gK6shjS70r",
        "outputId": "4d571144-f8fb-491a-d059-4731333c2df5"
      },
      "source": [
        "# high_level tuned xgboost classifier\n",
        "from xgboost import XGBClassifier\n",
        "from sklearn.metrics import log_loss\n",
        "from sklearn.calibration import CalibratedClassifierCV\n",
        "\n",
        "xgb = XGBClassifier(n_estimators = 450, max_depth = 5, colsample_bytree = 0.8, \n",
        "                    subsample = 0.6, learning_rate = 0.1, random_state = 21)\n",
        "xgb.fit(X_train_new, y_train)\n",
        "clf = CalibratedClassifierCV(xgb, method = 'sigmoid')\n",
        "clf.fit(X_train_new, y_train)\n",
        "\n",
        "y_pred_test = clf.predict_proba(X_test_new)\n",
        "y_pred_train = clf.predict_proba(X_train_new)\n",
        "\n",
        "train_loss = log_loss(y_train, y_pred_train, labels = xgb.classes_)\n",
        "#test_loss = log_loss(y_test, y_pred_test, labels = xgb.classes_)\n",
        "print(\"Train Loss:\", train_loss)\n",
        "#print(\"Test Loss:\", test_loss)"
      ],
      "execution_count": null,
      "outputs": [
        {
          "output_type": "stream",
          "text": [
            "Train Loss: 0.20106023485263363\n"
          ],
          "name": "stdout"
        }
      ]
    },
    {
      "cell_type": "code",
      "metadata": {
        "colab": {
          "base_uri": "https://localhost:8080/"
        },
        "id": "CncHQNXwj19Q",
        "outputId": "1c464605-5578-4da5-e36a-286f492e1278"
      },
      "source": [
        "y_pred_test"
      ],
      "execution_count": null,
      "outputs": [
        {
          "output_type": "execute_result",
          "data": {
            "text/plain": [
              "array([[3.52940746e-04, 1.85519726e-02, 6.67593302e-01, 2.88450017e-01,\n",
              "        2.50517674e-02],\n",
              "       [3.20005252e-04, 1.51852684e-02, 6.65932805e-02, 8.96746181e-01,\n",
              "        2.11552651e-02],\n",
              "       [3.21541413e-04, 1.52988124e-02, 7.32140416e-02, 8.88563928e-01,\n",
              "        2.26016771e-02],\n",
              "       ...,\n",
              "       [3.19802700e-04, 1.51642253e-02, 6.53944810e-02, 8.98167017e-01,\n",
              "        2.09544740e-02],\n",
              "       [3.19882791e-04, 1.51831945e-02, 6.67772566e-02, 8.96724597e-01,\n",
              "        2.09950689e-02],\n",
              "       [3.46245152e-04, 1.65977662e-02, 4.88251335e-01, 4.71745077e-01,\n",
              "        2.30595771e-02]])"
            ]
          },
          "metadata": {
            "tags": []
          },
          "execution_count": 164
        }
      ]
    },
    {
      "cell_type": "code",
      "metadata": {
        "colab": {
          "base_uri": "https://localhost:8080/",
          "height": 204
        },
        "id": "VL1Didyqj19T",
        "outputId": "26f8fea7-14ff-4a16-cab7-e750bbf55613"
      },
      "source": [
        "xgb_tuned_df = pd.DataFrame(y_pred_test)\n",
        "xgb_tuned_df.head()"
      ],
      "execution_count": null,
      "outputs": [
        {
          "output_type": "execute_result",
          "data": {
            "text/html": [
              "<div>\n",
              "<style scoped>\n",
              "    .dataframe tbody tr th:only-of-type {\n",
              "        vertical-align: middle;\n",
              "    }\n",
              "\n",
              "    .dataframe tbody tr th {\n",
              "        vertical-align: top;\n",
              "    }\n",
              "\n",
              "    .dataframe thead th {\n",
              "        text-align: right;\n",
              "    }\n",
              "</style>\n",
              "<table border=\"1\" class=\"dataframe\">\n",
              "  <thead>\n",
              "    <tr style=\"text-align: right;\">\n",
              "      <th></th>\n",
              "      <th>0</th>\n",
              "      <th>1</th>\n",
              "      <th>2</th>\n",
              "      <th>3</th>\n",
              "      <th>4</th>\n",
              "    </tr>\n",
              "  </thead>\n",
              "  <tbody>\n",
              "    <tr>\n",
              "      <th>0</th>\n",
              "      <td>0.000353</td>\n",
              "      <td>0.018552</td>\n",
              "      <td>0.667593</td>\n",
              "      <td>0.288450</td>\n",
              "      <td>0.025052</td>\n",
              "    </tr>\n",
              "    <tr>\n",
              "      <th>1</th>\n",
              "      <td>0.000320</td>\n",
              "      <td>0.015185</td>\n",
              "      <td>0.066593</td>\n",
              "      <td>0.896746</td>\n",
              "      <td>0.021155</td>\n",
              "    </tr>\n",
              "    <tr>\n",
              "      <th>2</th>\n",
              "      <td>0.000322</td>\n",
              "      <td>0.015299</td>\n",
              "      <td>0.073214</td>\n",
              "      <td>0.888564</td>\n",
              "      <td>0.022602</td>\n",
              "    </tr>\n",
              "    <tr>\n",
              "      <th>3</th>\n",
              "      <td>0.000320</td>\n",
              "      <td>0.015197</td>\n",
              "      <td>0.065868</td>\n",
              "      <td>0.897431</td>\n",
              "      <td>0.021183</td>\n",
              "    </tr>\n",
              "    <tr>\n",
              "      <th>4</th>\n",
              "      <td>0.000320</td>\n",
              "      <td>0.015142</td>\n",
              "      <td>0.063569</td>\n",
              "      <td>0.899974</td>\n",
              "      <td>0.020995</td>\n",
              "    </tr>\n",
              "  </tbody>\n",
              "</table>\n",
              "</div>"
            ],
            "text/plain": [
              "          0         1         2         3         4\n",
              "0  0.000353  0.018552  0.667593  0.288450  0.025052\n",
              "1  0.000320  0.015185  0.066593  0.896746  0.021155\n",
              "2  0.000322  0.015299  0.073214  0.888564  0.022602\n",
              "3  0.000320  0.015197  0.065868  0.897431  0.021183\n",
              "4  0.000320  0.015142  0.063569  0.899974  0.020995"
            ]
          },
          "metadata": {
            "tags": []
          },
          "execution_count": 165
        }
      ]
    },
    {
      "cell_type": "code",
      "metadata": {
        "id": "VdR3ZF4sj19W"
      },
      "source": [
        "xgb_tuned_df.to_csv(my_path + 'xgb_450_5_0806_cat1engg_calib.csv', index = False)"
      ],
      "execution_count": null,
      "outputs": []
    },
    {
      "cell_type": "code",
      "metadata": {
        "colab": {
          "base_uri": "https://localhost:8080/",
          "height": 606
        },
        "id": "NRU3Cn3gfmZs",
        "outputId": "0984a665-954e-43ea-f9c1-9cd329230bed"
      },
      "source": [
        "feat_df = pd.DataFrame({'Features': X_train.columns, 'Relative importance': xgb.feature_importances_})\n",
        "imp_feat_df = feat_df.sort_values('Relative importance', ascending = False)\n",
        "plt.figure(figsize = (7, 10))\n",
        "sns.barplot(x = 'Relative importance', y = 'Features', data = imp_feat_df)\n",
        "plt.grid()\n",
        "plt.show()"
      ],
      "execution_count": null,
      "outputs": [
        {
          "output_type": "display_data",
          "data": {
            "image/png": "[encoded data removed]",
            "text/plain": [
              "<Figure size 504x720 with 1 Axes>"
            ]
          },
          "metadata": {
            "tags": [],
            "needs_background": "light"
          }
        }
      ]
    },
    {
      "cell_type": "markdown",
      "metadata": {
        "id": "t5aR4E6hneUt"
      },
      "source": [
        "### Baseline Random Forest Classifier"
      ]
    },
    {
      "cell_type": "code",
      "metadata": {
        "colab": {
          "base_uri": "https://localhost:8080/"
        },
        "id": "7vM7FedAfDEx",
        "outputId": "3cecd3f6-fd2a-4b63-da30-cdec81f60961"
      },
      "source": [
        "# high_level tuned xgboost classifier\n",
        "from sklearn.ensemble import RandomForestClassifier\n",
        "from sklearn.metrics import log_loss\n",
        "\n",
        "rf = RandomForestClassifier(random_state = 21)\n",
        "rf.fit(X_train, y_train)\n",
        "\n",
        "y_pred_test = rf.predict_proba(X_test)\n",
        "y_pred_train = rf.predict_proba(X_train)\n",
        "\n",
        "train_loss = log_loss(y_train, y_pred_train, labels = rf.classes_)\n",
        "test_loss = log_loss(y_test, y_pred_test, labels = rf.classes_)\n",
        "print(\"Train Loss:\", train_loss)\n",
        "print(\"Test Loss:\", test_loss)"
      ],
      "execution_count": null,
      "outputs": [
        {
          "output_type": "stream",
          "text": [
            "Train Loss: 0.1027595495647868\n",
            "Test Loss: 0.734523417556088\n"
          ],
          "name": "stdout"
        }
      ]
    },
    {
      "cell_type": "markdown",
      "metadata": {
        "id": "mQ7oAljCnmtc"
      },
      "source": [
        "### Baseline Logistic Regression"
      ]
    },
    {
      "cell_type": "code",
      "metadata": {
        "colab": {
          "base_uri": "https://localhost:8080/"
        },
        "id": "z4DLA3mChuvZ",
        "outputId": "c1a7215f-83c2-4d9d-fa0a-f35fe66e72da"
      },
      "source": [
        "from sklearn.metrics import log_loss\n",
        "from sklearn.linear_model import LogisticRegression\n",
        "\n",
        "lr = LogisticRegression(random_state = 21) # default penalty is L2 \n",
        "lr.fit(X_train, y_train)\n",
        "y_pred_test = lr.predict_proba(X_test)\n",
        "y_pred_train = lr.predict_proba(X_train)\n",
        "\n",
        "train_loss = log_loss(y_train, y_pred_train, labels = lr.classes_, eps = 1e-15)\n",
        "test_loss = log_loss(y_test, y_pred_test, labels = lr.classes_, eps = 1e-15)\n",
        "print(train_loss)\n",
        "print(test_loss)"
      ],
      "execution_count": null,
      "outputs": [
        {
          "output_type": "stream",
          "text": [
            "0.6001569957525709\n",
            "0.6203538310182389\n"
          ],
          "name": "stdout"
        }
      ]
    }
  ]
}